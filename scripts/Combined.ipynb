{
 "cells": [
  {
   "cell_type": "code",
   "execution_count": 2,
   "metadata": {
    "colab": {
     "base_uri": "https://localhost:8080/"
    },
    "id": "qwezmTWiz7xp",
    "outputId": "68cd10b0-a50b-4aca-e456-3ecf1c5f08f8"
   },
   "outputs": [
    {
     "name": "stderr",
     "output_type": "stream",
     "text": [
      "/home/s4647285/STAT3007/combined_scripts/ImageProcessor.py:82: UserWarning: `keep_geom_type=True` in overlay resulted in 3 dropped geometries of different geometry types than df1 has. Set `keep_geom_type=False` to retain all geometries\n",
      "  intersections_df = geopandas.overlay(tiles_df, annotations_df, how='intersection')\n",
      "100%|██████████| 166/166 [05:15<00:00,  1.90s/it]\n"
     ]
    }
   ],
   "source": [
    "from ImageProcessor import *\n",
    "from Evaluation import *\n",
    "svs_path = '../prelimary_data/BRACS_1494.svs'\n",
    "json_path = '../prelimary_data/BRACS_1494.geojson'\n",
    "tile_size = 512\n",
    "\n",
    "imageProcessor_1494 = ImageProcessor(json_path, svs_path)\n",
    "tiles_1494 = imageProcessor_1494.generate_tile(tile_size = tile_size)"
   ]
  },
  {
   "cell_type": "code",
   "execution_count": 3,
   "metadata": {},
   "outputs": [
    {
     "name": "stderr",
     "output_type": "stream",
     "text": [
      "100%|██████████| 174/174 [05:51<00:00,  2.02s/it]\n"
     ]
    }
   ],
   "source": [
    "svs_path = '../prelimary_data/BRACS_1496.svs'\n",
    "json_path = '../prelimary_data/BRACS_1496.geojson'\n",
    "imageProcessor_1496 = ImageProcessor(json_path, svs_path)\n",
    "tiles_1496 = imageProcessor_1496.generate_tile(tile_size = tile_size)"
   ]
  },
  {
   "cell_type": "code",
   "execution_count": 4,
   "metadata": {},
   "outputs": [
    {
     "name": "stderr",
     "output_type": "stream",
     "text": [
      "100%|██████████| 173/173 [06:51<00:00,  2.38s/it]\n"
     ]
    }
   ],
   "source": [
    "svs_path = '../prelimary_data/BRACS_1286.svs'\n",
    "json_path = '../prelimary_data/BRACS_1286.geojson'\n",
    "imageProcessor_1286 = ImageProcessor(json_path, svs_path)\n",
    "tiles_1286 = imageProcessor_1286.generate_tile(tile_size = tile_size)"
   ]
  },
  {
   "cell_type": "code",
   "execution_count": 6,
   "metadata": {
    "colab": {
     "base_uri": "https://localhost:8080/"
    },
    "id": "fsIhGot_CJBr",
    "outputId": "b81dc4ee-9937-4f70-e6ca-598ae545e70f"
   },
   "outputs": [
    {
     "data": {
      "text/plain": [
       "(17552, 8108, 23956)"
      ]
     },
     "execution_count": 6,
     "metadata": {},
     "output_type": "execute_result"
    }
   ],
   "source": [
    "len(tiles_1494),len(tiles_1496), len(tiles_1286)"
   ]
  },
  {
   "cell_type": "code",
   "execution_count": 5,
   "metadata": {},
   "outputs": [],
   "source": [
    "tiles = tiles_1494 + tiles_1496 + tiles_1286"
   ]
  },
  {
   "cell_type": "code",
   "execution_count": 7,
   "metadata": {
    "id": "pOjUM2iEMS17"
   },
   "outputs": [],
   "source": [
    "import os\n",
    "import torch\n",
    "import torch.nn as nn\n",
    "import torch.nn.functional as F\n",
    "from torch.nn.functional import relu\n",
    "import json\n",
    "from PIL import Image, ImageDraw\n",
    "import matplotlib.pyplot as plt\n",
    "import numpy as np\n",
    "\n",
    "class UNet(nn.Module):\n",
    "    \"\"\"\n",
    "    Base Unet Implementation\n",
    "    \"\"\"\n",
    "\n",
    "    def __init__(self, n_class:int = 2) -> None:\n",
    "        \"\"\"\n",
    "        Initialize Unet, n_class is number of classes we want to segment images for\n",
    "        Defaults at 2 for 2 ROI types\n",
    "        \"\"\"\n",
    "        super().__init__()\n",
    "\n",
    "        # Encoder\n",
    "        # In the encoder, convolutional layers with the Conv2d function are used to extract features from the input image.\n",
    "        # Each block in the encoder consists of two convolutional layers followed by a max-pooling layer, with the exception of the last block which does not include a max-pooling layer.\n",
    "        # -------\n",
    "        # input: 572x572x3\n",
    "        self.e11 = nn.Conv2d(3, 64, kernel_size=3, padding=1) # output: 570x570x64\n",
    "        self.e12 = nn.Conv2d(64, 64, kernel_size=3, padding=1) # output: 568x568x64\n",
    "        self.pool1 = nn.MaxPool2d(kernel_size=2, stride=2) # output: 284x284x64\n",
    "\n",
    "        # input: 284x284x64\n",
    "        self.e21 = nn.Conv2d(64, 128, kernel_size=3, padding=1) # output: 282x282x128\n",
    "        self.e22 = nn.Conv2d(128, 128, kernel_size=3, padding=1) # output: 280x280x128\n",
    "        self.pool2 = nn.MaxPool2d(kernel_size=2, stride=2) # output: 140x140x128\n",
    "\n",
    "        # input: 140x140x128\n",
    "        self.e31 = nn.Conv2d(128, 256, kernel_size=3, padding=1) # output: 138x138x256\n",
    "        self.e32 = nn.Conv2d(256, 256, kernel_size=3, padding=1) # output: 136x136x256\n",
    "        self.pool3 = nn.MaxPool2d(kernel_size=2, stride=2) # output: 68x68x256\n",
    "\n",
    "        # input: 68x68x256\n",
    "        self.e41 = nn.Conv2d(256, 512, kernel_size=3, padding=1) # output: 66x66x512\n",
    "        self.e42 = nn.Conv2d(512, 512, kernel_size=3, padding=1) # output: 64x64x512\n",
    "        self.pool4 = nn.MaxPool2d(kernel_size=2, stride=2) # output: 32x32x512\n",
    "\n",
    "        # input: 32x32x512\n",
    "        self.e51 = nn.Conv2d(512, 1024, kernel_size=3, padding=1) # output: 30x30x1024\n",
    "        self.e52 = nn.Conv2d(1024, 1024, kernel_size=3, padding=1) # output: 28x28x1024\n",
    "\n",
    "\n",
    "        # Decoder\n",
    "        # In the decoder, transpose convolutional layers with the ConvTranspose2d function are used to upsample the feature maps to the original size of the input image.\n",
    "        # Each block in the decoder consists of an upsampling layer, a concatenation with the corresponding encoder feature map, and two convolutional layers.\n",
    "        # -------\n",
    "        self.upconv1 = nn.ConvTranspose2d(1024, 512, kernel_size=2, stride=2)\n",
    "        self.d11 = nn.Conv2d(1024, 512, kernel_size=3, padding=1)\n",
    "        self.d12 = nn.Conv2d(512, 512, kernel_size=3, padding=1)\n",
    "\n",
    "        self.upconv2 = nn.ConvTranspose2d(512, 256, kernel_size=2, stride=2)\n",
    "        self.d21 = nn.Conv2d(512, 256, kernel_size=3, padding=1)\n",
    "        self.d22 = nn.Conv2d(256, 256, kernel_size=3, padding=1)\n",
    "\n",
    "        self.upconv3 = nn.ConvTranspose2d(256, 128, kernel_size=2, stride=2)\n",
    "        self.d31 = nn.Conv2d(256, 128, kernel_size=3, padding=1)\n",
    "        self.d32 = nn.Conv2d(128, 128, kernel_size=3, padding=1)\n",
    "\n",
    "        self.upconv4 = nn.ConvTranspose2d(128, 64, kernel_size=2, stride=2)\n",
    "        self.d41 = nn.Conv2d(128, 64, kernel_size=3, padding=1)\n",
    "        self.d42 = nn.Conv2d(64, 64, kernel_size=3, padding=1)\n",
    "\n",
    "        # Output layer\n",
    "        self.outconv = nn.Conv2d(64, n_class, kernel_size=1)\n",
    "\n",
    "    def forward(self, x):\n",
    "        # Encoder\n",
    "        xe11 = relu(self.e11(x))\n",
    "        xe12 = relu(self.e12(xe11))\n",
    "        xp1 = self.pool1(xe12)\n",
    "\n",
    "        xe21 = relu(self.e21(xp1))\n",
    "        xe22 = relu(self.e22(xe21))\n",
    "        xp2 = self.pool2(xe22)\n",
    "\n",
    "        xe31 = relu(self.e31(xp2))\n",
    "        xe32 = relu(self.e32(xe31))\n",
    "        xp3 = self.pool3(xe32)\n",
    "\n",
    "        xe41 = relu(self.e41(xp3))\n",
    "        xe42 = relu(self.e42(xe41))\n",
    "        xp4 = self.pool4(xe42)\n",
    "\n",
    "        xe51 = relu(self.e51(xp4))\n",
    "        xe52 = relu(self.e52(xe51))\n",
    "\n",
    "        # Decoder\n",
    "        xu1 = self.upconv1(xe52)\n",
    "        xu11 = torch.cat([xu1, xe42], dim=1)\n",
    "        xd11 = relu(self.d11(xu11))\n",
    "        xd12 = relu(self.d12(xd11))\n",
    "\n",
    "        xu2 = self.upconv2(xd12)\n",
    "        xu22 = torch.cat([xu2, xe32], dim=1)\n",
    "        xd21 = relu(self.d21(xu22))\n",
    "        xd22 = relu(self.d22(xd21))\n",
    "\n",
    "        xu3 = self.upconv3(xd22)\n",
    "        xu33 = torch.cat([xu3, xe22], dim=1)\n",
    "        xd31 = relu(self.d31(xu33))\n",
    "        xd32 = relu(self.d32(xd31))\n",
    "\n",
    "        xu4 = self.upconv4(xd32)\n",
    "        xu44 = torch.cat([xu4, xe12], dim=1)\n",
    "        xd41 = relu(self.d41(xu44))\n",
    "        xd42 = relu(self.d42(xd41))\n",
    "\n",
    "        # Output layer\n",
    "        out = self.outconv(xd42)\n",
    "\n",
    "        return out"
   ]
  },
  {
   "cell_type": "code",
   "execution_count": 8,
   "metadata": {
    "cellView": "form",
    "id": "_9k_cyX6rR-k"
   },
   "outputs": [],
   "source": [
    "# @title\n",
    "import os\n",
    "import torch\n",
    "import torch.nn as nn\n",
    "import torch.nn.functional as F\n",
    "from torch.nn.functional import relu\n",
    "import json\n",
    "from PIL import Image, ImageDraw\n",
    "import matplotlib.pyplot as plt\n",
    "import numpy as np\n",
    "\n",
    "class SmallUNet(nn.Module):\n",
    "    \"\"\"\n",
    "    Base Unet Implementation\n",
    "    \"\"\"\n",
    "\n",
    "    def __init__(self, n_class:int = 2) -> None:\n",
    "        \"\"\"\n",
    "        Initialize Unet, n_class is number of classes we want to segment images for\n",
    "        Defaults at 2 for 2 ROI types\n",
    "        \"\"\"\n",
    "        super().__init__()\n",
    "\n",
    "        # Encoder\n",
    "        # In the encoder, convolutional layers with the Conv2d function are used to extract features from the input image.\n",
    "        # Each block in the encoder consists of two convolutional layers followed by a max-pooling layer, with the exception of the last block which does not include a max-pooling layer.\n",
    "        # -------\n",
    "        # input: 572x572x3\n",
    "\n",
    "        self.e21 = nn.Conv2d(3, 64, kernel_size=3, padding=1)\n",
    "        self.e22 = nn.Conv2d(64, 64, kernel_size=3, padding=1)\n",
    "        self.pool2 = nn.MaxPool2d(kernel_size=2, stride=2)\n",
    "\n",
    "        # input: 284x284x64\n",
    "        self.e31 = nn.Conv2d(64, 128, kernel_size=3, padding=1)\n",
    "        self.e32 = nn.Conv2d(128, 128, kernel_size=3, padding=1)\n",
    "        self.pool3 = nn.MaxPool2d(kernel_size=2, stride=2) #\n",
    "\n",
    "        # input: 140x140x128\n",
    "        self.e41 = nn.Conv2d(128, 256, kernel_size=3, padding=1)\n",
    "        self.e42 = nn.Conv2d(256, 256, kernel_size=3, padding=1)\n",
    "        self.pool4 = nn.MaxPool2d(kernel_size=2, stride=2)\n",
    "\n",
    "        # input: 68x68x256\n",
    "        self.e51 = nn.Conv2d(256, 512, kernel_size=3, padding=1)\n",
    "        self.e52 = nn.Conv2d(512, 512, kernel_size=3, padding=1)\n",
    "\n",
    "\n",
    "        # Decoder\n",
    "        # In the decoder, transpose convolutional layers with the ConvTranspose2d function are used to upsample the feature maps to the original size of the input image.\n",
    "        # Each block in the decoder consists of an upsampling layer, a concatenation with the corresponding encoder feature map, and two convolutional layers.\n",
    "        # -------\n",
    "        self.upconv1 = nn.ConvTranspose2d(512, 256, kernel_size=2, stride=2)\n",
    "        self.d11 = nn.Conv2d(512, 256, kernel_size=3, padding=1)\n",
    "        self.d12 = nn.Conv2d(256, 256, kernel_size=3, padding=1)\n",
    "\n",
    "        self.upconv2 = nn.ConvTranspose2d(256, 128, kernel_size=2, stride=2)\n",
    "        self.d21 = nn.Conv2d(256, 128, kernel_size=3, padding=1)\n",
    "        self.d22 = nn.Conv2d(128, 128, kernel_size=3, padding=1)\n",
    "\n",
    "        self.upconv3 = nn.ConvTranspose2d(128, 64, kernel_size=2, stride=2)\n",
    "        self.d31 = nn.Conv2d(128, 64, kernel_size=3, padding=1)\n",
    "        self.d32 = nn.Conv2d(64, 64, kernel_size=3, padding=1)\n",
    "\n",
    "        # Output layer\n",
    "        self.outconv = nn.Conv2d(64, n_class, kernel_size=1)\n",
    "        self.sigmoid = nn.LogSoftmax(dim=1)\n",
    "\n",
    "    def forward(self, x):\n",
    "\n",
    "        xe21 = relu(self.e21(x))\n",
    "        xe22 = relu(self.e22(xe21))\n",
    "        xp2 = self.pool2(xe22)\n",
    "\n",
    "        xe31 = relu(self.e31(xp2))\n",
    "        xe32 = relu(self.e32(xe31))\n",
    "        xp3 = self.pool3(xe32)\n",
    "\n",
    "        xe41 = relu(self.e41(xp3))\n",
    "        xe42 = relu(self.e42(xe41))\n",
    "        xp4 = self.pool4(xe42)\n",
    "\n",
    "        xe51 = relu(self.e51(xp4))\n",
    "        xe52 = relu(self.e52(xe51))\n",
    "\n",
    "        # Decoder\n",
    "        xu1 = self.upconv1(xe52)\n",
    "        xu11 = torch.cat([xu1, xe42], dim=1)\n",
    "        xd11 = relu(self.d11(xu11))\n",
    "        xd12 = relu(self.d12(xd11))\n",
    "\n",
    "        xu2 = self.upconv2(xd12)\n",
    "        xu22 = torch.cat([xu2, xe32], dim=1)\n",
    "        xd21 = relu(self.d21(xu22))\n",
    "        xd22 = relu(self.d22(xd21))\n",
    "\n",
    "        xu3 = self.upconv3(xd22)\n",
    "        xu33 = torch.cat([xu3, xe22], dim=1)\n",
    "        xd31 = relu(self.d31(xu33))\n",
    "        xd32 = relu(self.d32(xd31))\n",
    "\n",
    "        # Output layer\n",
    "        out = self.outconv(xd32)\n",
    "        #out = self.sigmoid(out)\n",
    "\n",
    "        return out"
   ]
  },
  {
   "cell_type": "code",
   "execution_count": 9,
   "metadata": {},
   "outputs": [],
   "source": [
    "import random\n",
    "import numpy as np\n",
    "import torch\n",
    "\n",
    "def set_seeds(seed=42):\n",
    "    random.seed(seed)\n",
    "    np.random.seed(seed)\n",
    "    torch.manual_seed(seed)\n",
    "    torch.cuda.manual_seed(seed)\n",
    "\n",
    "set_seeds(32)"
   ]
  },
  {
   "cell_type": "code",
   "execution_count": 10,
   "metadata": {
    "id": "pfDkqwFZCQF1"
   },
   "outputs": [],
   "source": [
    "tiles = [t for t in tiles if t.image_data.shape == (3, tile_size, tile_size)]\n",
    "tiles_copy = tiles"
   ]
  },
  {
   "cell_type": "code",
   "execution_count": 11,
   "metadata": {
    "colab": {
     "base_uri": "https://localhost:8080/"
    },
    "id": "d2uTlnYuZuaS",
    "outputId": "e8fafb62-0ea8-48b4-e46c-990b73eb60ea"
   },
   "outputs": [
    {
     "name": "stdout",
     "output_type": "stream",
     "text": [
      "743\n",
      "2972\n"
     ]
    }
   ],
   "source": [
    "tiles_with_masks = [t for t in tiles if 1 in t.mask]\n",
    "print(len(tiles_with_masks))\n",
    "tiles = tiles_with_masks + list(np.random.choice(tiles, 3*len(tiles_with_masks), replace=False))\n",
    "print(len(tiles))"
   ]
  },
  {
   "cell_type": "code",
   "execution_count": 12,
   "metadata": {
    "id": "iRR6T8dnMumM"
   },
   "outputs": [],
   "source": [
    "from torch.utils.data import Dataset, DataLoader\n",
    "from torchvision import transforms\n",
    "\n",
    "class TiledWSIDataset(Dataset):\n",
    "    def __init__(self, tiles):\n",
    "        self.tiles = [t.image_data for t in tiles]\n",
    "        self.masks = [t.mask for t in tiles]\n",
    "        self.transform = transforms.Compose([\n",
    "            transforms.ToTensor(),\n",
    "            transforms.Normalize(mean=[0.485, 0.456, 0.406],\n",
    "                                 std=[0.229, 0.224, 0.225])\n",
    "        ])\n",
    "\n",
    "    def __len__(self):\n",
    "        return len(self.tiles)\n",
    "\n",
    "    def __len__(self):\n",
    "        return len(self.tiles)\n",
    "\n",
    "    def __getitem__(self, idx):\n",
    "        image = self.tiles[idx]\n",
    "        image = image.transpose(1, 2, 0)\n",
    "\n",
    "        image = self.transform(image)\n",
    "\n",
    "        mask = self.masks[idx]\n",
    "        mask = torch.tensor(mask)\n",
    "        return image, mask\n",
    "\n",
    "dataset = TiledWSIDataset(tiles)\n",
    "full_dataset = DataLoader(dataset, batch_size=16, shuffle=True)"
   ]
  },
  {
   "cell_type": "code",
   "execution_count": 13,
   "metadata": {
    "id": "tCn0VpeMNI6m"
   },
   "outputs": [],
   "source": [
    "from torch.optim import Adam\n",
    "\n",
    "def dice_loss(pred, target):\n",
    "    smooth = 1.\n",
    "    iflat = pred.view(-1)\n",
    "    tflat = target.view(-1)\n",
    "    intersection = (iflat * tflat).sum()\n",
    "\n",
    "    return 1 - ((2. * intersection + smooth) / (iflat.sum() + tflat.sum() + smooth))\n",
    "\n",
    "def criterion(pred, target):\n",
    "    return dice_loss(pred, target) + F.cross_entropy(pred, target)\n"
   ]
  },
  {
   "cell_type": "code",
   "execution_count": 14,
   "metadata": {
    "id": "DYaN0blKNPWA"
   },
   "outputs": [],
   "source": [
    "from torch.utils.data import random_split, DataLoader\n",
    "\n",
    "\n",
    "# Split the smaller dataset into training and testing\n",
    "train_size = int(0.8 * len(dataset))\n",
    "test_size = len(dataset) - train_size\n",
    "train_dataset, test_dataset = torch.utils.data.random_split(dataset, [train_size, test_size])\n",
    "\n",
    "batch_size = 16\n",
    "\n",
    "# Data loaders\n",
    "train_loader = DataLoader(train_dataset, batch_size=batch_size, shuffle=True, num_workers=4, drop_last=True)\n",
    "test_loader = DataLoader(test_dataset, batch_size=batch_size, shuffle=True, num_workers=4, drop_last=True)\n"
   ]
  },
  {
   "cell_type": "code",
   "execution_count": 15,
   "metadata": {},
   "outputs": [
    {
     "data": {
      "text/plain": [
       "device(type='cuda')"
      ]
     },
     "execution_count": 15,
     "metadata": {},
     "output_type": "execute_result"
    }
   ],
   "source": [
    "import torch\n",
    "torch.device('cuda' if torch.cuda.is_available() else 'cpu')"
   ]
  },
  {
   "cell_type": "code",
   "execution_count": 31,
   "metadata": {
    "id": "asZcVWL0NX6z"
   },
   "outputs": [],
   "source": [
    "device = torch.device('cuda' if torch.cuda.is_available() else 'cpu')\n",
    "model = UNet(n_class=1).to(device)\n",
    "\n",
    "lr = 1e-4\n",
    "optimizer = Adam(model.parameters(), lr=lr)\n",
    "\n",
    "criterion = nn.BCEWithLogitsLoss()\n",
    "\n",
    "def train(model, trainloader, testloader, criterion, optimizer, epochs, device):\n",
    "  best_test = np.inf\n",
    "  train_losses = []\n",
    "  test_losses = []\n",
    "\n",
    "\n",
    "  for epoch in range(epochs):\n",
    "    epoch_loss = 0\n",
    "    test_loss = 0\n",
    "\n",
    "    model.train()\n",
    "    for images, masks in tqdm(trainloader):\n",
    "\n",
    "      images, masks = images.to(device), masks.to(device)\n",
    "\n",
    "      optimizer.zero_grad()\n",
    "\n",
    "      outputs = model(images)\n",
    "\n",
    "      loss = criterion(outputs, masks)\n",
    "      loss.backward()\n",
    "      optimizer.step()\n",
    "      loss = loss.cpu()\n",
    "      epoch_loss += loss.item()\n",
    "\n",
    "    model.eval()\n",
    "    for image, masks in tqdm(testloader):\n",
    "      images, masks = images.to(device), masks.to(device)\n",
    "      outputs = model(images)\n",
    "      loss = criterion(outputs, masks)\n",
    "      loss = loss.cpu()\n",
    "      test_loss += loss.item()\n",
    "\n",
    "      \n",
    "    epoch_train_loss = epoch_loss / len(trainloader)\n",
    "    epoch_test_loss = test_loss / len(testloader)\n",
    "\n",
    "    train_losses.append(epoch_train_loss)\n",
    "    test_losses.append(epoch_test_loss)\n",
    "\n",
    "    if test_loss/len(testloader) < best_test:\n",
    "      best_test = test_loss/len(testloader)\n",
    "      lr_str = str(lr)\n",
    "      tile_size_str = str(tile_size)\n",
    "      torch.save(model.state_dict(), 'unet_' + lr_str + \"_\" + tile_size_str + 'pth')\n",
    "\n",
    "    print(f'Epoch {epoch+1}, Train Loss: {epoch_loss/len(trainloader)}, Test Loss: {test_loss/len(testloader)}')\n",
    "\n",
    "  return train_losses, test_losses\n",
    "\n",
    "    # plt.figure(figsize=(10, 5))\n",
    "    # plt.plot(range(1, epochs + 1), train_losses, label='Train Loss', color='red')\n",
    "    # plt.plot(range(1, epochs + 1), test_losses, label='Test Loss', color='blue')\n",
    "    # plt.xlabel('Epochs')\n",
    "    # plt.ylabel('Loss')\n",
    "    # plt.title('Train and Test Loss Over Epochs')\n",
    "    # plt.legend()\n",
    "    # plt.grid(True)\n",
    "    # plt.show()\n"
   ]
  },
  {
   "cell_type": "code",
   "execution_count": 32,
   "metadata": {},
   "outputs": [
    {
     "name": "stderr",
     "output_type": "stream",
     "text": [
      "100%|██████████| 148/148 [01:00<00:00,  2.45it/s]\n",
      "100%|██████████| 37/37 [00:08<00:00,  4.12it/s]\n"
     ]
    },
    {
     "name": "stdout",
     "output_type": "stream",
     "text": [
      "Epoch 1, Train Loss: 0.37498974795075685, Test Loss: 0.44487153638053584\n"
     ]
    },
    {
     "name": "stderr",
     "output_type": "stream",
     "text": [
      "100%|██████████| 148/148 [00:56<00:00,  2.62it/s]\n",
      "100%|██████████| 37/37 [00:10<00:00,  3.70it/s]\n"
     ]
    },
    {
     "name": "stdout",
     "output_type": "stream",
     "text": [
      "Epoch 2, Train Loss: 0.33818043697927447, Test Loss: 0.4317910554441246\n"
     ]
    },
    {
     "name": "stderr",
     "output_type": "stream",
     "text": [
      "100%|██████████| 148/148 [00:58<00:00,  2.53it/s]\n",
      "100%|██████████| 37/37 [00:09<00:00,  4.03it/s]\n"
     ]
    },
    {
     "name": "stdout",
     "output_type": "stream",
     "text": [
      "Epoch 3, Train Loss: 0.3336957660377831, Test Loss: 0.426611891872174\n"
     ]
    },
    {
     "name": "stderr",
     "output_type": "stream",
     "text": [
      "100%|██████████| 148/148 [00:56<00:00,  2.60it/s]\n",
      "100%|██████████| 37/37 [00:09<00:00,  3.91it/s]\n"
     ]
    },
    {
     "name": "stdout",
     "output_type": "stream",
     "text": [
      "Epoch 4, Train Loss: 0.3321588386756343, Test Loss: 0.4490705108320391\n"
     ]
    },
    {
     "name": "stderr",
     "output_type": "stream",
     "text": [
      "100%|██████████| 148/148 [00:57<00:00,  2.59it/s]\n",
      "100%|██████████| 37/37 [00:08<00:00,  4.39it/s]\n"
     ]
    },
    {
     "name": "stdout",
     "output_type": "stream",
     "text": [
      "Epoch 5, Train Loss: 0.3287401965039002, Test Loss: 0.42627254652010427\n"
     ]
    },
    {
     "name": "stderr",
     "output_type": "stream",
     "text": [
      "100%|██████████| 148/148 [00:57<00:00,  2.59it/s]\n",
      "100%|██████████| 37/37 [00:08<00:00,  4.28it/s]\n"
     ]
    },
    {
     "name": "stdout",
     "output_type": "stream",
     "text": [
      "Epoch 6, Train Loss: 0.32802170736564173, Test Loss: 0.4344993507539904\n"
     ]
    },
    {
     "name": "stderr",
     "output_type": "stream",
     "text": [
      "100%|██████████| 148/148 [00:58<00:00,  2.53it/s]\n",
      "100%|██████████| 37/37 [00:08<00:00,  4.23it/s]\n"
     ]
    },
    {
     "name": "stdout",
     "output_type": "stream",
     "text": [
      "Epoch 7, Train Loss: 0.327137142017081, Test Loss: 0.4541687792217409\n"
     ]
    },
    {
     "name": "stderr",
     "output_type": "stream",
     "text": [
      "100%|██████████| 148/148 [00:58<00:00,  2.54it/s]\n",
      "100%|██████████| 37/37 [00:09<00:00,  3.83it/s]\n"
     ]
    },
    {
     "name": "stdout",
     "output_type": "stream",
     "text": [
      "Epoch 8, Train Loss: 0.322201463821772, Test Loss: 0.4491972597064199\n"
     ]
    },
    {
     "name": "stderr",
     "output_type": "stream",
     "text": [
      "100%|██████████| 148/148 [00:57<00:00,  2.58it/s]\n",
      "100%|██████████| 37/37 [00:08<00:00,  4.33it/s]\n"
     ]
    },
    {
     "name": "stdout",
     "output_type": "stream",
     "text": [
      "Epoch 9, Train Loss: 0.3145489362446037, Test Loss: 0.5050644685287733\n"
     ]
    },
    {
     "name": "stderr",
     "output_type": "stream",
     "text": [
      "100%|██████████| 148/148 [00:57<00:00,  2.60it/s]\n",
      "100%|██████████| 37/37 [00:08<00:00,  4.18it/s]\n"
     ]
    },
    {
     "name": "stdout",
     "output_type": "stream",
     "text": [
      "Epoch 10, Train Loss: 0.3134782730626899, Test Loss: 0.46049695965406057\n"
     ]
    },
    {
     "name": "stderr",
     "output_type": "stream",
     "text": [
      "100%|██████████| 148/148 [00:56<00:00,  2.61it/s]\n",
      "100%|██████████| 37/37 [00:09<00:00,  4.00it/s]\n"
     ]
    },
    {
     "name": "stdout",
     "output_type": "stream",
     "text": [
      "Epoch 11, Train Loss: 0.30581429001648686, Test Loss: 0.49347686485664266\n"
     ]
    },
    {
     "name": "stderr",
     "output_type": "stream",
     "text": [
      "100%|██████████| 148/148 [00:57<00:00,  2.57it/s]\n",
      "100%|██████████| 37/37 [00:08<00:00,  4.29it/s]\n"
     ]
    },
    {
     "name": "stdout",
     "output_type": "stream",
     "text": [
      "Epoch 12, Train Loss: 0.3057524896151311, Test Loss: 0.47645769852238734\n"
     ]
    },
    {
     "name": "stderr",
     "output_type": "stream",
     "text": [
      "100%|██████████| 148/148 [00:57<00:00,  2.58it/s]\n",
      "100%|██████████| 37/37 [00:08<00:00,  4.24it/s]\n"
     ]
    },
    {
     "name": "stdout",
     "output_type": "stream",
     "text": [
      "Epoch 13, Train Loss: 0.3002442901299612, Test Loss: 0.47304821699052246\n"
     ]
    },
    {
     "name": "stderr",
     "output_type": "stream",
     "text": [
      "100%|██████████| 148/148 [00:56<00:00,  2.62it/s]\n",
      "100%|██████████| 37/37 [00:09<00:00,  3.75it/s]\n"
     ]
    },
    {
     "name": "stdout",
     "output_type": "stream",
     "text": [
      "Epoch 14, Train Loss: 0.29811044636409023, Test Loss: 0.4923109355810526\n"
     ]
    },
    {
     "name": "stderr",
     "output_type": "stream",
     "text": [
      "100%|██████████| 148/148 [00:56<00:00,  2.62it/s]\n",
      "100%|██████████| 37/37 [00:08<00:00,  4.34it/s]\n"
     ]
    },
    {
     "name": "stdout",
     "output_type": "stream",
     "text": [
      "Epoch 15, Train Loss: 0.29601981465679567, Test Loss: 0.48054881071722183\n"
     ]
    },
    {
     "name": "stderr",
     "output_type": "stream",
     "text": [
      "100%|██████████| 148/148 [00:56<00:00,  2.63it/s]\n",
      "100%|██████████| 37/37 [00:09<00:00,  3.98it/s]\n"
     ]
    },
    {
     "name": "stdout",
     "output_type": "stream",
     "text": [
      "Epoch 16, Train Loss: 0.29451777886699987, Test Loss: 0.44049144798033946\n"
     ]
    },
    {
     "name": "stderr",
     "output_type": "stream",
     "text": [
      "100%|██████████| 148/148 [00:56<00:00,  2.63it/s]\n",
      "100%|██████████| 37/37 [00:08<00:00,  4.38it/s]\n"
     ]
    },
    {
     "name": "stdout",
     "output_type": "stream",
     "text": [
      "Epoch 17, Train Loss: 0.28902731058061926, Test Loss: 0.5015121889678208\n"
     ]
    },
    {
     "name": "stderr",
     "output_type": "stream",
     "text": [
      "100%|██████████| 148/148 [00:56<00:00,  2.63it/s]\n",
      "100%|██████████| 37/37 [00:09<00:00,  3.83it/s]\n"
     ]
    },
    {
     "name": "stdout",
     "output_type": "stream",
     "text": [
      "Epoch 18, Train Loss: 0.2900003629761773, Test Loss: 0.5324647559507473\n"
     ]
    },
    {
     "name": "stderr",
     "output_type": "stream",
     "text": [
      "100%|██████████| 148/148 [00:57<00:00,  2.57it/s]\n",
      "100%|██████████| 37/37 [00:09<00:00,  3.73it/s]\n"
     ]
    },
    {
     "name": "stdout",
     "output_type": "stream",
     "text": [
      "Epoch 19, Train Loss: 0.2877557447834595, Test Loss: 0.5037754468015723\n"
     ]
    },
    {
     "name": "stderr",
     "output_type": "stream",
     "text": [
      "100%|██████████| 148/148 [00:56<00:00,  2.63it/s]\n",
      "100%|██████████| 37/37 [00:09<00:00,  3.77it/s]\n"
     ]
    },
    {
     "name": "stdout",
     "output_type": "stream",
     "text": [
      "Epoch 20, Train Loss: 0.2871068469877984, Test Loss: 0.5018003554763021\n"
     ]
    },
    {
     "name": "stderr",
     "output_type": "stream",
     "text": [
      "100%|██████████| 148/148 [00:56<00:00,  2.63it/s]\n",
      "100%|██████████| 37/37 [00:09<00:00,  3.95it/s]\n"
     ]
    },
    {
     "name": "stdout",
     "output_type": "stream",
     "text": [
      "Epoch 21, Train Loss: 0.28831431294816573, Test Loss: 0.4628389050831666\n"
     ]
    },
    {
     "name": "stderr",
     "output_type": "stream",
     "text": [
      "100%|██████████| 148/148 [00:56<00:00,  2.61it/s]\n",
      "100%|██████████| 37/37 [00:09<00:00,  3.99it/s]\n"
     ]
    },
    {
     "name": "stdout",
     "output_type": "stream",
     "text": [
      "Epoch 22, Train Loss: 0.2871171279332122, Test Loss: 0.5529597546603229\n"
     ]
    },
    {
     "name": "stderr",
     "output_type": "stream",
     "text": [
      "100%|██████████| 148/148 [00:58<00:00,  2.55it/s]\n",
      "100%|██████████| 37/37 [00:08<00:00,  4.28it/s]\n"
     ]
    },
    {
     "name": "stdout",
     "output_type": "stream",
     "text": [
      "Epoch 23, Train Loss: 0.2855302661506308, Test Loss: 0.5024444376294678\n"
     ]
    },
    {
     "name": "stderr",
     "output_type": "stream",
     "text": [
      "100%|██████████| 148/148 [00:56<00:00,  2.61it/s]\n",
      "100%|██████████| 37/37 [00:08<00:00,  4.37it/s]\n"
     ]
    },
    {
     "name": "stdout",
     "output_type": "stream",
     "text": [
      "Epoch 24, Train Loss: 0.2816367438818152, Test Loss: 0.4648073508932784\n"
     ]
    },
    {
     "name": "stderr",
     "output_type": "stream",
     "text": [
      "100%|██████████| 148/148 [00:57<00:00,  2.57it/s]\n",
      "100%|██████████| 37/37 [00:08<00:00,  4.41it/s]\n"
     ]
    },
    {
     "name": "stdout",
     "output_type": "stream",
     "text": [
      "Epoch 25, Train Loss: 0.28426824943036644, Test Loss: 0.5564059558752421\n"
     ]
    },
    {
     "name": "stderr",
     "output_type": "stream",
     "text": [
      "100%|██████████| 148/148 [00:56<00:00,  2.62it/s]\n",
      "100%|██████████| 37/37 [00:08<00:00,  4.35it/s]\n"
     ]
    },
    {
     "name": "stdout",
     "output_type": "stream",
     "text": [
      "Epoch 26, Train Loss: 0.28109936833985755, Test Loss: 0.5273282527923584\n"
     ]
    },
    {
     "name": "stderr",
     "output_type": "stream",
     "text": [
      "100%|██████████| 148/148 [00:56<00:00,  2.61it/s]\n",
      "100%|██████████| 37/37 [00:09<00:00,  3.98it/s]\n"
     ]
    },
    {
     "name": "stdout",
     "output_type": "stream",
     "text": [
      "Epoch 27, Train Loss: 0.28084337545206417, Test Loss: 0.5306755952738427\n"
     ]
    },
    {
     "name": "stderr",
     "output_type": "stream",
     "text": [
      "100%|██████████| 148/148 [00:57<00:00,  2.58it/s]\n",
      "100%|██████████| 37/37 [00:08<00:00,  4.34it/s]\n"
     ]
    },
    {
     "name": "stdout",
     "output_type": "stream",
     "text": [
      "Epoch 28, Train Loss: 0.2768251803779119, Test Loss: 0.46976258525171793\n"
     ]
    },
    {
     "name": "stderr",
     "output_type": "stream",
     "text": [
      "100%|██████████| 148/148 [00:57<00:00,  2.56it/s]\n",
      "100%|██████████| 37/37 [00:09<00:00,  3.88it/s]\n"
     ]
    },
    {
     "name": "stdout",
     "output_type": "stream",
     "text": [
      "Epoch 29, Train Loss: 0.27612176633163077, Test Loss: 0.5649346886454402\n"
     ]
    },
    {
     "name": "stderr",
     "output_type": "stream",
     "text": [
      "100%|██████████| 148/148 [00:56<00:00,  2.62it/s]\n",
      "100%|██████████| 37/37 [00:08<00:00,  4.23it/s]\n"
     ]
    },
    {
     "name": "stdout",
     "output_type": "stream",
     "text": [
      "Epoch 30, Train Loss: 0.27465077544990424, Test Loss: 0.6029612518645622\n"
     ]
    },
    {
     "name": "stderr",
     "output_type": "stream",
     "text": [
      "100%|██████████| 148/148 [00:57<00:00,  2.59it/s]\n",
      "100%|██████████| 37/37 [00:08<00:00,  4.28it/s]\n"
     ]
    },
    {
     "name": "stdout",
     "output_type": "stream",
     "text": [
      "Epoch 31, Train Loss: 0.27164040108186166, Test Loss: 0.5376968117984565\n"
     ]
    },
    {
     "name": "stderr",
     "output_type": "stream",
     "text": [
      "100%|██████████| 148/148 [00:57<00:00,  2.59it/s]\n",
      "100%|██████████| 37/37 [00:08<00:00,  4.21it/s]\n"
     ]
    },
    {
     "name": "stdout",
     "output_type": "stream",
     "text": [
      "Epoch 32, Train Loss: 0.27153384599935365, Test Loss: 0.5966856886406202\n"
     ]
    },
    {
     "name": "stderr",
     "output_type": "stream",
     "text": [
      "100%|██████████| 148/148 [00:56<00:00,  2.62it/s]\n",
      "100%|██████████| 37/37 [00:08<00:00,  4.37it/s]\n"
     ]
    },
    {
     "name": "stdout",
     "output_type": "stream",
     "text": [
      "Epoch 33, Train Loss: 0.26739284129360236, Test Loss: 0.5033400268168062\n"
     ]
    },
    {
     "name": "stderr",
     "output_type": "stream",
     "text": [
      "100%|██████████| 148/148 [00:56<00:00,  2.62it/s]\n",
      "100%|██████████| 37/37 [00:08<00:00,  4.23it/s]\n"
     ]
    },
    {
     "name": "stdout",
     "output_type": "stream",
     "text": [
      "Epoch 34, Train Loss: 0.26108061446732767, Test Loss: 0.5406387029467402\n"
     ]
    },
    {
     "name": "stderr",
     "output_type": "stream",
     "text": [
      "100%|██████████| 148/148 [00:56<00:00,  2.60it/s]\n",
      "100%|██████████| 37/37 [00:08<00:00,  4.21it/s]\n"
     ]
    },
    {
     "name": "stdout",
     "output_type": "stream",
     "text": [
      "Epoch 35, Train Loss: 0.26099957372187765, Test Loss: 0.5523514159627863\n"
     ]
    },
    {
     "name": "stderr",
     "output_type": "stream",
     "text": [
      "100%|██████████| 148/148 [00:56<00:00,  2.62it/s]\n",
      "100%|██████████| 37/37 [00:08<00:00,  4.29it/s]\n"
     ]
    },
    {
     "name": "stdout",
     "output_type": "stream",
     "text": [
      "Epoch 36, Train Loss: 0.2536703831188985, Test Loss: 0.5596346830999529\n"
     ]
    },
    {
     "name": "stderr",
     "output_type": "stream",
     "text": [
      "100%|██████████| 148/148 [00:56<00:00,  2.63it/s]\n",
      "100%|██████████| 37/37 [00:08<00:00,  4.31it/s]\n"
     ]
    },
    {
     "name": "stdout",
     "output_type": "stream",
     "text": [
      "Epoch 37, Train Loss: 0.2481726943137678, Test Loss: 0.6439128348956237\n"
     ]
    },
    {
     "name": "stderr",
     "output_type": "stream",
     "text": [
      "100%|██████████| 148/148 [00:56<00:00,  2.63it/s]\n",
      "100%|██████████| 37/37 [00:08<00:00,  4.33it/s]\n"
     ]
    },
    {
     "name": "stdout",
     "output_type": "stream",
     "text": [
      "Epoch 38, Train Loss: 0.23910807712456664, Test Loss: 0.7071773067519471\n"
     ]
    },
    {
     "name": "stderr",
     "output_type": "stream",
     "text": [
      "100%|██████████| 148/148 [00:56<00:00,  2.62it/s]\n",
      "100%|██████████| 37/37 [00:08<00:00,  4.25it/s]\n"
     ]
    },
    {
     "name": "stdout",
     "output_type": "stream",
     "text": [
      "Epoch 39, Train Loss: 0.23003908865959258, Test Loss: 0.6816359975853482\n"
     ]
    },
    {
     "name": "stderr",
     "output_type": "stream",
     "text": [
      "100%|██████████| 148/148 [00:57<00:00,  2.57it/s]\n",
      "100%|██████████| 37/37 [00:09<00:00,  3.72it/s]\n"
     ]
    },
    {
     "name": "stdout",
     "output_type": "stream",
     "text": [
      "Epoch 40, Train Loss: 0.2186872220623332, Test Loss: 0.6237459392160982\n"
     ]
    },
    {
     "name": "stderr",
     "output_type": "stream",
     "text": [
      "100%|██████████| 148/148 [00:57<00:00,  2.59it/s]\n",
      "100%|██████████| 37/37 [00:08<00:00,  4.31it/s]\n"
     ]
    },
    {
     "name": "stdout",
     "output_type": "stream",
     "text": [
      "Epoch 41, Train Loss: 0.19950723086760655, Test Loss: 0.666740292632902\n"
     ]
    },
    {
     "name": "stderr",
     "output_type": "stream",
     "text": [
      "100%|██████████| 148/148 [00:56<00:00,  2.62it/s]\n",
      "100%|██████████| 37/37 [00:09<00:00,  3.71it/s]\n"
     ]
    },
    {
     "name": "stdout",
     "output_type": "stream",
     "text": [
      "Epoch 42, Train Loss: 0.1793760161695851, Test Loss: 0.7937099450343365\n"
     ]
    },
    {
     "name": "stderr",
     "output_type": "stream",
     "text": [
      "100%|██████████| 148/148 [00:57<00:00,  2.57it/s]\n",
      "100%|██████████| 37/37 [00:10<00:00,  3.66it/s]\n"
     ]
    },
    {
     "name": "stdout",
     "output_type": "stream",
     "text": [
      "Epoch 43, Train Loss: 0.15967168895578063, Test Loss: 0.788771595906567\n"
     ]
    },
    {
     "name": "stderr",
     "output_type": "stream",
     "text": [
      "100%|██████████| 148/148 [00:56<00:00,  2.63it/s]\n",
      "100%|██████████| 37/37 [00:08<00:00,  4.26it/s]\n"
     ]
    },
    {
     "name": "stdout",
     "output_type": "stream",
     "text": [
      "Epoch 44, Train Loss: 0.1268331883978602, Test Loss: 1.2006675713771098\n"
     ]
    },
    {
     "name": "stderr",
     "output_type": "stream",
     "text": [
      "100%|██████████| 148/148 [00:56<00:00,  2.62it/s]\n",
      "100%|██████████| 37/37 [00:10<00:00,  3.66it/s]\n"
     ]
    },
    {
     "name": "stdout",
     "output_type": "stream",
     "text": [
      "Epoch 45, Train Loss: 0.1067167447779227, Test Loss: 1.0491503549588692\n"
     ]
    },
    {
     "name": "stderr",
     "output_type": "stream",
     "text": [
      "100%|██████████| 148/148 [00:57<00:00,  2.56it/s]\n",
      "100%|██████████| 37/37 [00:09<00:00,  3.76it/s]\n"
     ]
    },
    {
     "name": "stdout",
     "output_type": "stream",
     "text": [
      "Epoch 46, Train Loss: 0.0874849854074922, Test Loss: 1.3960572191186853\n"
     ]
    },
    {
     "name": "stderr",
     "output_type": "stream",
     "text": [
      "100%|██████████| 148/148 [00:57<00:00,  2.56it/s]\n",
      "100%|██████████| 37/37 [00:08<00:00,  4.18it/s]\n"
     ]
    },
    {
     "name": "stdout",
     "output_type": "stream",
     "text": [
      "Epoch 47, Train Loss: 0.07166941503591433, Test Loss: 1.5029096458409283\n"
     ]
    },
    {
     "name": "stderr",
     "output_type": "stream",
     "text": [
      "100%|██████████| 148/148 [00:57<00:00,  2.58it/s]\n",
      "100%|██████████| 37/37 [00:09<00:00,  3.72it/s]\n"
     ]
    },
    {
     "name": "stdout",
     "output_type": "stream",
     "text": [
      "Epoch 48, Train Loss: 0.056590698609078255, Test Loss: 1.1964031184041821\n"
     ]
    },
    {
     "name": "stderr",
     "output_type": "stream",
     "text": [
      "100%|██████████| 148/148 [00:57<00:00,  2.57it/s]\n",
      "100%|██████████| 37/37 [00:08<00:00,  4.34it/s]\n"
     ]
    },
    {
     "name": "stdout",
     "output_type": "stream",
     "text": [
      "Epoch 49, Train Loss: 0.050270379885930465, Test Loss: 1.1553050738734167\n"
     ]
    },
    {
     "name": "stderr",
     "output_type": "stream",
     "text": [
      "100%|██████████| 148/148 [00:56<00:00,  2.61it/s]\n",
      "100%|██████████| 37/37 [00:09<00:00,  3.73it/s]"
     ]
    },
    {
     "name": "stdout",
     "output_type": "stream",
     "text": [
      "Epoch 50, Train Loss: 0.03986018579579084, Test Loss: 2.6880118589143494\n"
     ]
    },
    {
     "name": "stderr",
     "output_type": "stream",
     "text": [
      "\n"
     ]
    }
   ],
   "source": [
    "num_iterates = 50\n",
    "UNet_trained = train(model, train_loader, test_loader, criterion, optimizer, num_iterates, device)"
   ]
  },
  {
   "cell_type": "code",
   "execution_count": 33,
   "metadata": {},
   "outputs": [
    {
     "data": {
      "image/png": "[encoded data removed]",
      "text/plain": [
       "<Figure size 1000x500 with 1 Axes>"
      ]
     },
     "metadata": {},
     "output_type": "display_data"
    }
   ],
   "source": [
    "plt.figure(figsize=(10, 5))\n",
    "plt.plot(range(num_iterates), UNet_trained[0], label='Train Loss', color='red')\n",
    "plt.plot(range(num_iterates), UNet_trained[1], label='Test Loss', color='blue')\n",
    "plt.xlabel('Epochs')\n",
    "plt.ylabel('Loss')\n",
    "plt.title('Train and Test Loss Over Epochs with combination of 3 slides') #10^-4 \n",
    "plt.legend()\n",
    "plt.grid(True)\n",
    "plt.show()"
   ]
  },
  {
   "cell_type": "code",
   "execution_count": 36,
   "metadata": {},
   "outputs": [
    {
     "name": "stderr",
     "output_type": "stream",
     "text": [
      "  0%|          | 0/2972 [00:00<?, ?it/s]\n"
     ]
    },
    {
     "ename": "RuntimeError",
     "evalue": "Given groups=1, weight of size [512, 1024, 3, 3], expected input[1, 512, 128, 64] to have 1024 channels, but got 512 channels instead",
     "output_type": "error",
     "traceback": [
      "\u001b[0;31m---------------------------------------------------------------------------\u001b[0m",
      "\u001b[0;31mRuntimeError\u001b[0m                              Traceback (most recent call last)",
      "Cell \u001b[0;32mIn[36], line 1\u001b[0m\n\u001b[0;32m----> 1\u001b[0m confusion_matrix_1 \u001b[38;5;241m=\u001b[39m \u001b[43mcompute_confusion_matrix\u001b[49m\u001b[43m(\u001b[49m\u001b[43mmodel\u001b[49m\u001b[43m,\u001b[49m\u001b[43m \u001b[49m\u001b[43mdataset\u001b[49m\u001b[43m,\u001b[49m\u001b[43m \u001b[49m\u001b[43mdevice\u001b[49m\u001b[43m)\u001b[49m\n\u001b[1;32m      2\u001b[0m \u001b[38;5;28meval\u001b[39m \u001b[38;5;241m=\u001b[39m evaluate_model(model, dataset, device)\n",
      "File \u001b[0;32m~/STAT3007/combined_scripts/Evaluation.py:16\u001b[0m, in \u001b[0;36mcompute_confusion_matrix\u001b[0;34m(model, dataloader, device)\u001b[0m\n\u001b[1;32m     14\u001b[0m masks \u001b[38;5;241m=\u001b[39m masks\u001b[38;5;241m.\u001b[39mto(device, dtype\u001b[38;5;241m=\u001b[39mtorch\u001b[38;5;241m.\u001b[39mfloat32)\u001b[38;5;241m.\u001b[39munsqueeze(\u001b[38;5;241m1\u001b[39m)  \u001b[38;5;66;03m# Ensure the correct shape\u001b[39;00m\n\u001b[1;32m     15\u001b[0m \u001b[38;5;66;03m#masks = masks.to(device)\u001b[39;00m\n\u001b[0;32m---> 16\u001b[0m outputs \u001b[38;5;241m=\u001b[39m \u001b[43mmodel\u001b[49m\u001b[43m(\u001b[49m\u001b[43mimages\u001b[49m\u001b[43m)\u001b[49m\n\u001b[1;32m     18\u001b[0m preds \u001b[38;5;241m=\u001b[39m torch\u001b[38;5;241m.\u001b[39msigmoid(outputs) \u001b[38;5;241m>\u001b[39m \u001b[38;5;241m0.5\u001b[39m  \u001b[38;5;66;03m# Apply threshold to get binary predictions\u001b[39;00m\n\u001b[1;32m     20\u001b[0m preds \u001b[38;5;241m=\u001b[39m preds\u001b[38;5;241m.\u001b[39mint()\n",
      "File \u001b[0;32m~/.conda/envs/stlearn/lib/python3.8/site-packages/torch/nn/modules/module.py:1532\u001b[0m, in \u001b[0;36mModule._wrapped_call_impl\u001b[0;34m(self, *args, **kwargs)\u001b[0m\n\u001b[1;32m   1530\u001b[0m     \u001b[38;5;28;01mreturn\u001b[39;00m \u001b[38;5;28mself\u001b[39m\u001b[38;5;241m.\u001b[39m_compiled_call_impl(\u001b[38;5;241m*\u001b[39margs, \u001b[38;5;241m*\u001b[39m\u001b[38;5;241m*\u001b[39mkwargs)  \u001b[38;5;66;03m# type: ignore[misc]\u001b[39;00m\n\u001b[1;32m   1531\u001b[0m \u001b[38;5;28;01melse\u001b[39;00m:\n\u001b[0;32m-> 1532\u001b[0m     \u001b[38;5;28;01mreturn\u001b[39;00m \u001b[38;5;28;43mself\u001b[39;49m\u001b[38;5;241;43m.\u001b[39;49m\u001b[43m_call_impl\u001b[49m\u001b[43m(\u001b[49m\u001b[38;5;241;43m*\u001b[39;49m\u001b[43margs\u001b[49m\u001b[43m,\u001b[49m\u001b[43m \u001b[49m\u001b[38;5;241;43m*\u001b[39;49m\u001b[38;5;241;43m*\u001b[39;49m\u001b[43mkwargs\u001b[49m\u001b[43m)\u001b[49m\n",
      "File \u001b[0;32m~/.conda/envs/stlearn/lib/python3.8/site-packages/torch/nn/modules/module.py:1541\u001b[0m, in \u001b[0;36mModule._call_impl\u001b[0;34m(self, *args, **kwargs)\u001b[0m\n\u001b[1;32m   1536\u001b[0m \u001b[38;5;66;03m# If we don't have any hooks, we want to skip the rest of the logic in\u001b[39;00m\n\u001b[1;32m   1537\u001b[0m \u001b[38;5;66;03m# this function, and just call forward.\u001b[39;00m\n\u001b[1;32m   1538\u001b[0m \u001b[38;5;28;01mif\u001b[39;00m \u001b[38;5;129;01mnot\u001b[39;00m (\u001b[38;5;28mself\u001b[39m\u001b[38;5;241m.\u001b[39m_backward_hooks \u001b[38;5;129;01mor\u001b[39;00m \u001b[38;5;28mself\u001b[39m\u001b[38;5;241m.\u001b[39m_backward_pre_hooks \u001b[38;5;129;01mor\u001b[39;00m \u001b[38;5;28mself\u001b[39m\u001b[38;5;241m.\u001b[39m_forward_hooks \u001b[38;5;129;01mor\u001b[39;00m \u001b[38;5;28mself\u001b[39m\u001b[38;5;241m.\u001b[39m_forward_pre_hooks\n\u001b[1;32m   1539\u001b[0m         \u001b[38;5;129;01mor\u001b[39;00m _global_backward_pre_hooks \u001b[38;5;129;01mor\u001b[39;00m _global_backward_hooks\n\u001b[1;32m   1540\u001b[0m         \u001b[38;5;129;01mor\u001b[39;00m _global_forward_hooks \u001b[38;5;129;01mor\u001b[39;00m _global_forward_pre_hooks):\n\u001b[0;32m-> 1541\u001b[0m     \u001b[38;5;28;01mreturn\u001b[39;00m \u001b[43mforward_call\u001b[49m\u001b[43m(\u001b[49m\u001b[38;5;241;43m*\u001b[39;49m\u001b[43margs\u001b[49m\u001b[43m,\u001b[49m\u001b[43m \u001b[49m\u001b[38;5;241;43m*\u001b[39;49m\u001b[38;5;241;43m*\u001b[39;49m\u001b[43mkwargs\u001b[49m\u001b[43m)\u001b[49m\n\u001b[1;32m   1543\u001b[0m \u001b[38;5;28;01mtry\u001b[39;00m:\n\u001b[1;32m   1544\u001b[0m     result \u001b[38;5;241m=\u001b[39m \u001b[38;5;28;01mNone\u001b[39;00m\n",
      "Cell \u001b[0;32mIn[20], line 99\u001b[0m, in \u001b[0;36mUNet.forward\u001b[0;34m(self, x)\u001b[0m\n\u001b[1;32m     97\u001b[0m xu1 \u001b[38;5;241m=\u001b[39m \u001b[38;5;28mself\u001b[39m\u001b[38;5;241m.\u001b[39mupconv1(xe52)\n\u001b[1;32m     98\u001b[0m xu11 \u001b[38;5;241m=\u001b[39m torch\u001b[38;5;241m.\u001b[39mcat([xu1, xe42], dim\u001b[38;5;241m=\u001b[39m\u001b[38;5;241m1\u001b[39m)\n\u001b[0;32m---> 99\u001b[0m xd11 \u001b[38;5;241m=\u001b[39m relu(\u001b[38;5;28;43mself\u001b[39;49m\u001b[38;5;241;43m.\u001b[39;49m\u001b[43md11\u001b[49m\u001b[43m(\u001b[49m\u001b[43mxu11\u001b[49m\u001b[43m)\u001b[49m)\n\u001b[1;32m    100\u001b[0m xd12 \u001b[38;5;241m=\u001b[39m relu(\u001b[38;5;28mself\u001b[39m\u001b[38;5;241m.\u001b[39md12(xd11))\n\u001b[1;32m    102\u001b[0m xu2 \u001b[38;5;241m=\u001b[39m \u001b[38;5;28mself\u001b[39m\u001b[38;5;241m.\u001b[39mupconv2(xd12)\n",
      "File \u001b[0;32m~/.conda/envs/stlearn/lib/python3.8/site-packages/torch/nn/modules/module.py:1532\u001b[0m, in \u001b[0;36mModule._wrapped_call_impl\u001b[0;34m(self, *args, **kwargs)\u001b[0m\n\u001b[1;32m   1530\u001b[0m     \u001b[38;5;28;01mreturn\u001b[39;00m \u001b[38;5;28mself\u001b[39m\u001b[38;5;241m.\u001b[39m_compiled_call_impl(\u001b[38;5;241m*\u001b[39margs, \u001b[38;5;241m*\u001b[39m\u001b[38;5;241m*\u001b[39mkwargs)  \u001b[38;5;66;03m# type: ignore[misc]\u001b[39;00m\n\u001b[1;32m   1531\u001b[0m \u001b[38;5;28;01melse\u001b[39;00m:\n\u001b[0;32m-> 1532\u001b[0m     \u001b[38;5;28;01mreturn\u001b[39;00m \u001b[38;5;28;43mself\u001b[39;49m\u001b[38;5;241;43m.\u001b[39;49m\u001b[43m_call_impl\u001b[49m\u001b[43m(\u001b[49m\u001b[38;5;241;43m*\u001b[39;49m\u001b[43margs\u001b[49m\u001b[43m,\u001b[49m\u001b[43m \u001b[49m\u001b[38;5;241;43m*\u001b[39;49m\u001b[38;5;241;43m*\u001b[39;49m\u001b[43mkwargs\u001b[49m\u001b[43m)\u001b[49m\n",
      "File \u001b[0;32m~/.conda/envs/stlearn/lib/python3.8/site-packages/torch/nn/modules/module.py:1541\u001b[0m, in \u001b[0;36mModule._call_impl\u001b[0;34m(self, *args, **kwargs)\u001b[0m\n\u001b[1;32m   1536\u001b[0m \u001b[38;5;66;03m# If we don't have any hooks, we want to skip the rest of the logic in\u001b[39;00m\n\u001b[1;32m   1537\u001b[0m \u001b[38;5;66;03m# this function, and just call forward.\u001b[39;00m\n\u001b[1;32m   1538\u001b[0m \u001b[38;5;28;01mif\u001b[39;00m \u001b[38;5;129;01mnot\u001b[39;00m (\u001b[38;5;28mself\u001b[39m\u001b[38;5;241m.\u001b[39m_backward_hooks \u001b[38;5;129;01mor\u001b[39;00m \u001b[38;5;28mself\u001b[39m\u001b[38;5;241m.\u001b[39m_backward_pre_hooks \u001b[38;5;129;01mor\u001b[39;00m \u001b[38;5;28mself\u001b[39m\u001b[38;5;241m.\u001b[39m_forward_hooks \u001b[38;5;129;01mor\u001b[39;00m \u001b[38;5;28mself\u001b[39m\u001b[38;5;241m.\u001b[39m_forward_pre_hooks\n\u001b[1;32m   1539\u001b[0m         \u001b[38;5;129;01mor\u001b[39;00m _global_backward_pre_hooks \u001b[38;5;129;01mor\u001b[39;00m _global_backward_hooks\n\u001b[1;32m   1540\u001b[0m         \u001b[38;5;129;01mor\u001b[39;00m _global_forward_hooks \u001b[38;5;129;01mor\u001b[39;00m _global_forward_pre_hooks):\n\u001b[0;32m-> 1541\u001b[0m     \u001b[38;5;28;01mreturn\u001b[39;00m \u001b[43mforward_call\u001b[49m\u001b[43m(\u001b[49m\u001b[38;5;241;43m*\u001b[39;49m\u001b[43margs\u001b[49m\u001b[43m,\u001b[49m\u001b[43m \u001b[49m\u001b[38;5;241;43m*\u001b[39;49m\u001b[38;5;241;43m*\u001b[39;49m\u001b[43mkwargs\u001b[49m\u001b[43m)\u001b[49m\n\u001b[1;32m   1543\u001b[0m \u001b[38;5;28;01mtry\u001b[39;00m:\n\u001b[1;32m   1544\u001b[0m     result \u001b[38;5;241m=\u001b[39m \u001b[38;5;28;01mNone\u001b[39;00m\n",
      "File \u001b[0;32m~/.conda/envs/stlearn/lib/python3.8/site-packages/torch/nn/modules/conv.py:460\u001b[0m, in \u001b[0;36mConv2d.forward\u001b[0;34m(self, input)\u001b[0m\n\u001b[1;32m    459\u001b[0m \u001b[38;5;28;01mdef\u001b[39;00m \u001b[38;5;21mforward\u001b[39m(\u001b[38;5;28mself\u001b[39m, \u001b[38;5;28minput\u001b[39m: Tensor) \u001b[38;5;241m-\u001b[39m\u001b[38;5;241m>\u001b[39m Tensor:\n\u001b[0;32m--> 460\u001b[0m     \u001b[38;5;28;01mreturn\u001b[39;00m \u001b[38;5;28;43mself\u001b[39;49m\u001b[38;5;241;43m.\u001b[39;49m\u001b[43m_conv_forward\u001b[49m\u001b[43m(\u001b[49m\u001b[38;5;28;43minput\u001b[39;49m\u001b[43m,\u001b[49m\u001b[43m \u001b[49m\u001b[38;5;28;43mself\u001b[39;49m\u001b[38;5;241;43m.\u001b[39;49m\u001b[43mweight\u001b[49m\u001b[43m,\u001b[49m\u001b[43m \u001b[49m\u001b[38;5;28;43mself\u001b[39;49m\u001b[38;5;241;43m.\u001b[39;49m\u001b[43mbias\u001b[49m\u001b[43m)\u001b[49m\n",
      "File \u001b[0;32m~/.conda/envs/stlearn/lib/python3.8/site-packages/torch/nn/modules/conv.py:456\u001b[0m, in \u001b[0;36mConv2d._conv_forward\u001b[0;34m(self, input, weight, bias)\u001b[0m\n\u001b[1;32m    452\u001b[0m \u001b[38;5;28;01mif\u001b[39;00m \u001b[38;5;28mself\u001b[39m\u001b[38;5;241m.\u001b[39mpadding_mode \u001b[38;5;241m!=\u001b[39m \u001b[38;5;124m'\u001b[39m\u001b[38;5;124mzeros\u001b[39m\u001b[38;5;124m'\u001b[39m:\n\u001b[1;32m    453\u001b[0m     \u001b[38;5;28;01mreturn\u001b[39;00m F\u001b[38;5;241m.\u001b[39mconv2d(F\u001b[38;5;241m.\u001b[39mpad(\u001b[38;5;28minput\u001b[39m, \u001b[38;5;28mself\u001b[39m\u001b[38;5;241m.\u001b[39m_reversed_padding_repeated_twice, mode\u001b[38;5;241m=\u001b[39m\u001b[38;5;28mself\u001b[39m\u001b[38;5;241m.\u001b[39mpadding_mode),\n\u001b[1;32m    454\u001b[0m                     weight, bias, \u001b[38;5;28mself\u001b[39m\u001b[38;5;241m.\u001b[39mstride,\n\u001b[1;32m    455\u001b[0m                     _pair(\u001b[38;5;241m0\u001b[39m), \u001b[38;5;28mself\u001b[39m\u001b[38;5;241m.\u001b[39mdilation, \u001b[38;5;28mself\u001b[39m\u001b[38;5;241m.\u001b[39mgroups)\n\u001b[0;32m--> 456\u001b[0m \u001b[38;5;28;01mreturn\u001b[39;00m \u001b[43mF\u001b[49m\u001b[38;5;241;43m.\u001b[39;49m\u001b[43mconv2d\u001b[49m\u001b[43m(\u001b[49m\u001b[38;5;28;43minput\u001b[39;49m\u001b[43m,\u001b[49m\u001b[43m \u001b[49m\u001b[43mweight\u001b[49m\u001b[43m,\u001b[49m\u001b[43m \u001b[49m\u001b[43mbias\u001b[49m\u001b[43m,\u001b[49m\u001b[43m \u001b[49m\u001b[38;5;28;43mself\u001b[39;49m\u001b[38;5;241;43m.\u001b[39;49m\u001b[43mstride\u001b[49m\u001b[43m,\u001b[49m\n\u001b[1;32m    457\u001b[0m \u001b[43m                \u001b[49m\u001b[38;5;28;43mself\u001b[39;49m\u001b[38;5;241;43m.\u001b[39;49m\u001b[43mpadding\u001b[49m\u001b[43m,\u001b[49m\u001b[43m \u001b[49m\u001b[38;5;28;43mself\u001b[39;49m\u001b[38;5;241;43m.\u001b[39;49m\u001b[43mdilation\u001b[49m\u001b[43m,\u001b[49m\u001b[43m \u001b[49m\u001b[38;5;28;43mself\u001b[39;49m\u001b[38;5;241;43m.\u001b[39;49m\u001b[43mgroups\u001b[49m\u001b[43m)\u001b[49m\n",
      "\u001b[0;31mRuntimeError\u001b[0m: Given groups=1, weight of size [512, 1024, 3, 3], expected input[1, 512, 128, 64] to have 1024 channels, but got 512 channels instead"
     ]
    }
   ],
   "source": [
    "confusion_matrix_1 = compute_confusion_matrix(model, dataset, device)\n",
    "eval = evaluate_model(model, dataset, device)"
   ]
  },
  {
   "cell_type": "code",
   "execution_count": 39,
   "metadata": {},
   "outputs": [],
   "source": [
    "device = torch.device('cuda' if torch.cuda.is_available() else 'cpu')\n",
    "model_1 = UNet(n_class=1).to(device)\n",
    "\n",
    "lr = 1e-6\n",
    "optimizer = Adam(model_1.parameters(), lr=lr)\n",
    "\n",
    "criterion = nn.BCEWithLogitsLoss()\n",
    "\n",
    "def train(model, trainloader, testloader, criterion, optimizer, epochs, device):\n",
    "  best_test = np.inf\n",
    "  train_losses = []\n",
    "  test_losses = []\n",
    "\n",
    "\n",
    "  for epoch in range(epochs):\n",
    "    epoch_loss = 0\n",
    "    test_loss = 0\n",
    "\n",
    "    model.train()\n",
    "    for images, masks in tqdm(trainloader):\n",
    "\n",
    "      images, masks = images.to(device), masks.to(device)\n",
    "\n",
    "      optimizer.zero_grad()\n",
    "\n",
    "      outputs = model(images)\n",
    "\n",
    "      loss = criterion(outputs, masks)\n",
    "      loss.backward()\n",
    "      optimizer.step()\n",
    "      loss = loss.cpu()\n",
    "      epoch_loss += loss.item()\n",
    "\n",
    "    model.eval()\n",
    "    for image, masks in tqdm(testloader):\n",
    "      images, masks = images.to(device), masks.to(device)\n",
    "      outputs = model(images)\n",
    "      loss = criterion(outputs, masks)\n",
    "      loss = loss.cpu()\n",
    "      test_loss += loss.item()\n",
    "\n",
    "      \n",
    "    epoch_train_loss = epoch_loss / len(trainloader)\n",
    "    epoch_test_loss = test_loss / len(testloader)\n",
    "\n",
    "    train_losses.append(epoch_train_loss)\n",
    "    test_losses.append(epoch_test_loss)\n",
    "\n",
    "    if test_loss/len(testloader) < best_test:\n",
    "      best_test = test_loss/len(testloader)\n",
    "      lr_str = str(lr)\n",
    "      tile_size_str = str(tile_size)\n",
    "      torch.save(model.state_dict(), 'unet_' + lr_str + \"_\" + tile_size_str + '_' + str(epochs) + '.pth')\n",
    "\n",
    "    print(f'Epoch {epoch+1}, Train Loss: {epoch_loss/len(trainloader)}, Test Loss: {test_loss/len(testloader)}')\n",
    "\n",
    "  return train_losses, test_losses\n",
    "\n",
    "    # plt.figure(figsize=(10, 5))\n",
    "    # plt.plot(range(1, epochs + 1), train_losses, label='Train Loss', color='red')\n",
    "    # plt.plot(range(1, epochs + 1), test_losses, label='Test Loss', color='blue')\n",
    "    # plt.xlabel('Epochs')\n",
    "    # plt.ylabel('Loss')\n",
    "    # plt.title('Train and Test Loss Over Epochs')\n",
    "    # plt.legend()\n",
    "    # plt.grid(True)\n",
    "    # plt.show()\n"
   ]
  },
  {
   "cell_type": "code",
   "execution_count": 40,
   "metadata": {},
   "outputs": [
    {
     "name": "stderr",
     "output_type": "stream",
     "text": [
      "100%|██████████| 148/148 [00:58<00:00,  2.55it/s]\n",
      "100%|██████████| 37/37 [00:08<00:00,  4.25it/s]\n"
     ]
    },
    {
     "name": "stdout",
     "output_type": "stream",
     "text": [
      "Epoch 1, Train Loss: 0.7227577631537979, Test Loss: 0.716334847179619\n"
     ]
    },
    {
     "name": "stderr",
     "output_type": "stream",
     "text": [
      "100%|██████████| 148/148 [00:57<00:00,  2.59it/s]\n",
      "100%|██████████| 37/37 [00:08<00:00,  4.29it/s]\n"
     ]
    },
    {
     "name": "stdout",
     "output_type": "stream",
     "text": [
      "Epoch 2, Train Loss: 0.7081976053682534, Test Loss: 0.7001308798789978\n"
     ]
    },
    {
     "name": "stderr",
     "output_type": "stream",
     "text": [
      "100%|██████████| 148/148 [00:57<00:00,  2.59it/s]\n",
      "100%|██████████| 37/37 [00:08<00:00,  4.13it/s]\n"
     ]
    },
    {
     "name": "stdout",
     "output_type": "stream",
     "text": [
      "Epoch 3, Train Loss: 0.6905914343692161, Test Loss: 0.6890250347756051\n"
     ]
    },
    {
     "name": "stderr",
     "output_type": "stream",
     "text": [
      "100%|██████████| 148/148 [00:57<00:00,  2.58it/s]\n",
      "100%|██████████| 37/37 [00:08<00:00,  4.25it/s]\n"
     ]
    },
    {
     "name": "stdout",
     "output_type": "stream",
     "text": [
      "Epoch 4, Train Loss: 0.6595338764222892, Test Loss: 0.6289166018769548\n"
     ]
    },
    {
     "name": "stderr",
     "output_type": "stream",
     "text": [
      "100%|██████████| 148/148 [00:58<00:00,  2.51it/s]\n",
      "100%|██████████| 37/37 [00:10<00:00,  3.65it/s]\n"
     ]
    },
    {
     "name": "stdout",
     "output_type": "stream",
     "text": [
      "Epoch 5, Train Loss: 0.4201721946734029, Test Loss: 0.4189244307376243\n"
     ]
    },
    {
     "name": "stderr",
     "output_type": "stream",
     "text": [
      "100%|██████████| 148/148 [00:57<00:00,  2.57it/s]\n",
      "100%|██████████| 37/37 [00:09<00:00,  4.00it/s]\n"
     ]
    },
    {
     "name": "stdout",
     "output_type": "stream",
     "text": [
      "Epoch 6, Train Loss: 0.3461404320960109, Test Loss: 0.39659130210812027\n"
     ]
    },
    {
     "name": "stderr",
     "output_type": "stream",
     "text": [
      "100%|██████████| 148/148 [00:57<00:00,  2.57it/s]\n",
      "100%|██████████| 37/37 [00:08<00:00,  4.28it/s]\n"
     ]
    },
    {
     "name": "stdout",
     "output_type": "stream",
     "text": [
      "Epoch 7, Train Loss: 0.34504884556942694, Test Loss: 0.3897359222173691\n"
     ]
    },
    {
     "name": "stderr",
     "output_type": "stream",
     "text": [
      "100%|██████████| 148/148 [00:58<00:00,  2.53it/s]\n",
      "100%|██████████| 37/37 [00:08<00:00,  4.18it/s]\n"
     ]
    },
    {
     "name": "stdout",
     "output_type": "stream",
     "text": [
      "Epoch 8, Train Loss: 0.3451403663871256, Test Loss: 0.41621267715015925\n"
     ]
    },
    {
     "name": "stderr",
     "output_type": "stream",
     "text": [
      "100%|██████████| 148/148 [00:57<00:00,  2.57it/s]\n",
      "100%|██████████| 37/37 [00:08<00:00,  4.33it/s]\n"
     ]
    },
    {
     "name": "stdout",
     "output_type": "stream",
     "text": [
      "Epoch 9, Train Loss: 0.3442750175961772, Test Loss: 0.41033118117499995\n"
     ]
    },
    {
     "name": "stderr",
     "output_type": "stream",
     "text": [
      "100%|██████████| 148/148 [00:57<00:00,  2.58it/s]\n",
      "100%|██████████| 37/37 [00:09<00:00,  3.71it/s]\n"
     ]
    },
    {
     "name": "stdout",
     "output_type": "stream",
     "text": [
      "Epoch 10, Train Loss: 0.34152032092616363, Test Loss: 0.4133490899930129\n"
     ]
    },
    {
     "name": "stderr",
     "output_type": "stream",
     "text": [
      "100%|██████████| 148/148 [00:57<00:00,  2.58it/s]\n",
      "100%|██████████| 37/37 [00:08<00:00,  4.31it/s]\n"
     ]
    },
    {
     "name": "stdout",
     "output_type": "stream",
     "text": [
      "Epoch 11, Train Loss: 0.3420893592709625, Test Loss: 0.41261891658241684\n"
     ]
    },
    {
     "name": "stderr",
     "output_type": "stream",
     "text": [
      "100%|██████████| 148/148 [00:57<00:00,  2.56it/s]\n",
      "100%|██████████| 37/37 [00:08<00:00,  4.26it/s]\n"
     ]
    },
    {
     "name": "stdout",
     "output_type": "stream",
     "text": [
      "Epoch 12, Train Loss: 0.3399616104827539, Test Loss: 0.4076183957828058\n"
     ]
    },
    {
     "name": "stderr",
     "output_type": "stream",
     "text": [
      "100%|██████████| 148/148 [00:57<00:00,  2.58it/s]\n",
      "100%|██████████| 37/37 [00:09<00:00,  3.79it/s]\n"
     ]
    },
    {
     "name": "stdout",
     "output_type": "stream",
     "text": [
      "Epoch 13, Train Loss: 0.3391197266409526, Test Loss: 0.4139324112518414\n"
     ]
    },
    {
     "name": "stderr",
     "output_type": "stream",
     "text": [
      "100%|██████████| 148/148 [00:57<00:00,  2.59it/s]\n",
      "100%|██████████| 37/37 [00:08<00:00,  4.31it/s]\n"
     ]
    },
    {
     "name": "stdout",
     "output_type": "stream",
     "text": [
      "Epoch 14, Train Loss: 0.3393587990588433, Test Loss: 0.40736631646349625\n"
     ]
    },
    {
     "name": "stderr",
     "output_type": "stream",
     "text": [
      "100%|██████████| 148/148 [00:57<00:00,  2.60it/s]\n",
      "100%|██████████| 37/37 [00:08<00:00,  4.31it/s]\n"
     ]
    },
    {
     "name": "stdout",
     "output_type": "stream",
     "text": [
      "Epoch 15, Train Loss: 0.33988854550832026, Test Loss: 0.41361862783496445\n"
     ]
    },
    {
     "name": "stderr",
     "output_type": "stream",
     "text": [
      "100%|██████████| 148/148 [00:57<00:00,  2.57it/s]\n",
      "100%|██████████| 37/37 [00:08<00:00,  4.30it/s]\n"
     ]
    },
    {
     "name": "stdout",
     "output_type": "stream",
     "text": [
      "Epoch 16, Train Loss: 0.3388563104074549, Test Loss: 0.4223378779920372\n"
     ]
    },
    {
     "name": "stderr",
     "output_type": "stream",
     "text": [
      "100%|██████████| 148/148 [00:58<00:00,  2.55it/s]\n",
      "100%|██████████| 37/37 [00:08<00:00,  4.30it/s]\n"
     ]
    },
    {
     "name": "stdout",
     "output_type": "stream",
     "text": [
      "Epoch 17, Train Loss: 0.3381315881034007, Test Loss: 0.4022628987157667\n"
     ]
    },
    {
     "name": "stderr",
     "output_type": "stream",
     "text": [
      "100%|██████████| 148/148 [00:57<00:00,  2.58it/s]\n",
      "100%|██████████| 37/37 [00:08<00:00,  4.31it/s]\n"
     ]
    },
    {
     "name": "stdout",
     "output_type": "stream",
     "text": [
      "Epoch 18, Train Loss: 0.3376092975204055, Test Loss: 0.4003193249573579\n"
     ]
    },
    {
     "name": "stderr",
     "output_type": "stream",
     "text": [
      "100%|██████████| 148/148 [00:58<00:00,  2.53it/s]\n",
      "100%|██████████| 37/37 [00:09<00:00,  4.01it/s]\n"
     ]
    },
    {
     "name": "stdout",
     "output_type": "stream",
     "text": [
      "Epoch 19, Train Loss: 0.3360763566216102, Test Loss: 0.4178885459094434\n"
     ]
    },
    {
     "name": "stderr",
     "output_type": "stream",
     "text": [
      "100%|██████████| 148/148 [00:57<00:00,  2.56it/s]\n",
      "100%|██████████| 37/37 [00:08<00:00,  4.25it/s]\n"
     ]
    },
    {
     "name": "stdout",
     "output_type": "stream",
     "text": [
      "Epoch 20, Train Loss: 0.3367479121362841, Test Loss: 0.4091211021751971\n"
     ]
    },
    {
     "name": "stderr",
     "output_type": "stream",
     "text": [
      "100%|██████████| 148/148 [00:57<00:00,  2.57it/s]\n",
      "100%|██████████| 37/37 [00:08<00:00,  4.16it/s]\n"
     ]
    },
    {
     "name": "stdout",
     "output_type": "stream",
     "text": [
      "Epoch 21, Train Loss: 0.3354121312196996, Test Loss: 0.3958739134910944\n"
     ]
    },
    {
     "name": "stderr",
     "output_type": "stream",
     "text": [
      "100%|██████████| 148/148 [00:57<00:00,  2.58it/s]\n",
      "100%|██████████| 37/37 [00:08<00:00,  4.29it/s]\n"
     ]
    },
    {
     "name": "stdout",
     "output_type": "stream",
     "text": [
      "Epoch 22, Train Loss: 0.3343638293948528, Test Loss: 0.41706044569208817\n"
     ]
    },
    {
     "name": "stderr",
     "output_type": "stream",
     "text": [
      "100%|██████████| 148/148 [00:57<00:00,  2.58it/s]\n",
      "100%|██████████| 37/37 [00:08<00:00,  4.39it/s]\n"
     ]
    },
    {
     "name": "stdout",
     "output_type": "stream",
     "text": [
      "Epoch 23, Train Loss: 0.333604442509445, Test Loss: 0.39662603147932\n"
     ]
    },
    {
     "name": "stderr",
     "output_type": "stream",
     "text": [
      "100%|██████████| 148/148 [00:58<00:00,  2.54it/s]\n",
      "100%|██████████| 37/37 [00:10<00:00,  3.66it/s]\n"
     ]
    },
    {
     "name": "stdout",
     "output_type": "stream",
     "text": [
      "Epoch 24, Train Loss: 0.33356723597122206, Test Loss: 0.40765898533769557\n"
     ]
    },
    {
     "name": "stderr",
     "output_type": "stream",
     "text": [
      "100%|██████████| 148/148 [00:58<00:00,  2.54it/s]\n",
      "100%|██████████| 37/37 [00:08<00:00,  4.16it/s]\n"
     ]
    },
    {
     "name": "stdout",
     "output_type": "stream",
     "text": [
      "Epoch 25, Train Loss: 0.33124408538679817, Test Loss: 0.3976330269832869\n"
     ]
    },
    {
     "name": "stderr",
     "output_type": "stream",
     "text": [
      "100%|██████████| 148/148 [00:57<00:00,  2.58it/s]\n",
      "100%|██████████| 37/37 [00:08<00:00,  4.30it/s]\n"
     ]
    },
    {
     "name": "stdout",
     "output_type": "stream",
     "text": [
      "Epoch 26, Train Loss: 0.33115032989833804, Test Loss: 0.4222843977245125\n"
     ]
    },
    {
     "name": "stderr",
     "output_type": "stream",
     "text": [
      "100%|██████████| 148/148 [00:57<00:00,  2.58it/s]\n",
      "100%|██████████| 37/37 [00:08<00:00,  4.22it/s]\n"
     ]
    },
    {
     "name": "stdout",
     "output_type": "stream",
     "text": [
      "Epoch 27, Train Loss: 0.33226214480158445, Test Loss: 0.4049262392359811\n"
     ]
    },
    {
     "name": "stderr",
     "output_type": "stream",
     "text": [
      "100%|██████████| 148/148 [00:58<00:00,  2.52it/s]\n",
      "100%|██████████| 37/37 [00:08<00:00,  4.19it/s]\n"
     ]
    },
    {
     "name": "stdout",
     "output_type": "stream",
     "text": [
      "Epoch 28, Train Loss: 0.330320846138371, Test Loss: 0.4169638237437686\n"
     ]
    },
    {
     "name": "stderr",
     "output_type": "stream",
     "text": [
      "100%|██████████| 148/148 [00:57<00:00,  2.57it/s]\n",
      "100%|██████████| 37/37 [00:09<00:00,  3.83it/s]\n"
     ]
    },
    {
     "name": "stdout",
     "output_type": "stream",
     "text": [
      "Epoch 29, Train Loss: 0.3307563783349218, Test Loss: 0.41416489111410604\n"
     ]
    },
    {
     "name": "stderr",
     "output_type": "stream",
     "text": [
      "100%|██████████| 148/148 [00:57<00:00,  2.59it/s]\n",
      "100%|██████████| 37/37 [00:09<00:00,  3.71it/s]\n"
     ]
    },
    {
     "name": "stdout",
     "output_type": "stream",
     "text": [
      "Epoch 30, Train Loss: 0.3320029817924306, Test Loss: 0.4110500143991934\n"
     ]
    },
    {
     "name": "stderr",
     "output_type": "stream",
     "text": [
      "100%|██████████| 148/148 [00:57<00:00,  2.57it/s]\n",
      "100%|██████████| 37/37 [00:08<00:00,  4.29it/s]\n"
     ]
    },
    {
     "name": "stdout",
     "output_type": "stream",
     "text": [
      "Epoch 31, Train Loss: 0.33040522436636527, Test Loss: 0.4110292021084476\n"
     ]
    },
    {
     "name": "stderr",
     "output_type": "stream",
     "text": [
      "100%|██████████| 148/148 [00:58<00:00,  2.52it/s]\n",
      "100%|██████████| 37/37 [00:09<00:00,  3.70it/s]\n"
     ]
    },
    {
     "name": "stdout",
     "output_type": "stream",
     "text": [
      "Epoch 32, Train Loss: 0.32900879567338004, Test Loss: 0.41337360361137904\n"
     ]
    },
    {
     "name": "stderr",
     "output_type": "stream",
     "text": [
      "100%|██████████| 148/148 [00:57<00:00,  2.57it/s]\n",
      "100%|██████████| 37/37 [00:10<00:00,  3.68it/s]\n"
     ]
    },
    {
     "name": "stdout",
     "output_type": "stream",
     "text": [
      "Epoch 33, Train Loss: 0.32838682568556554, Test Loss: 0.4126870265683612\n"
     ]
    },
    {
     "name": "stderr",
     "output_type": "stream",
     "text": [
      "100%|██████████| 148/148 [00:57<00:00,  2.57it/s]\n",
      "100%|██████████| 37/37 [00:09<00:00,  3.81it/s]\n"
     ]
    },
    {
     "name": "stdout",
     "output_type": "stream",
     "text": [
      "Epoch 34, Train Loss: 0.3281700784290159, Test Loss: 0.413723886013031\n"
     ]
    },
    {
     "name": "stderr",
     "output_type": "stream",
     "text": [
      "100%|██████████| 148/148 [00:58<00:00,  2.54it/s]\n",
      "100%|██████████| 37/37 [00:09<00:00,  3.72it/s]\n"
     ]
    },
    {
     "name": "stdout",
     "output_type": "stream",
     "text": [
      "Epoch 35, Train Loss: 0.3273499562228854, Test Loss: 0.4243400850006052\n"
     ]
    },
    {
     "name": "stderr",
     "output_type": "stream",
     "text": [
      "100%|██████████| 148/148 [00:57<00:00,  2.58it/s]\n",
      "100%|██████████| 37/37 [00:08<00:00,  4.36it/s]\n"
     ]
    },
    {
     "name": "stdout",
     "output_type": "stream",
     "text": [
      "Epoch 36, Train Loss: 0.326290458793173, Test Loss: 0.4421422936626383\n"
     ]
    },
    {
     "name": "stderr",
     "output_type": "stream",
     "text": [
      "100%|██████████| 148/148 [00:57<00:00,  2.58it/s]\n",
      "100%|██████████| 37/37 [00:08<00:00,  4.17it/s]\n"
     ]
    },
    {
     "name": "stdout",
     "output_type": "stream",
     "text": [
      "Epoch 37, Train Loss: 0.325755367961687, Test Loss: 0.42640420633393367\n"
     ]
    },
    {
     "name": "stderr",
     "output_type": "stream",
     "text": [
      "100%|██████████| 148/148 [00:57<00:00,  2.59it/s]\n",
      "100%|██████████| 37/37 [00:09<00:00,  3.75it/s]\n"
     ]
    },
    {
     "name": "stdout",
     "output_type": "stream",
     "text": [
      "Epoch 38, Train Loss: 0.32553494147755, Test Loss: 0.4358327839825604\n"
     ]
    },
    {
     "name": "stderr",
     "output_type": "stream",
     "text": [
      "100%|██████████| 148/148 [00:57<00:00,  2.58it/s]\n",
      "100%|██████████| 37/37 [00:08<00:00,  4.20it/s]\n"
     ]
    },
    {
     "name": "stdout",
     "output_type": "stream",
     "text": [
      "Epoch 39, Train Loss: 0.3246175037143198, Test Loss: 0.42126077453832367\n"
     ]
    },
    {
     "name": "stderr",
     "output_type": "stream",
     "text": [
      "100%|██████████| 148/148 [00:57<00:00,  2.57it/s]\n",
      "100%|██████████| 37/37 [00:08<00:00,  4.18it/s]\n"
     ]
    },
    {
     "name": "stdout",
     "output_type": "stream",
     "text": [
      "Epoch 40, Train Loss: 0.32429263257497065, Test Loss: 0.41348971305666743\n"
     ]
    },
    {
     "name": "stderr",
     "output_type": "stream",
     "text": [
      "100%|██████████| 148/148 [00:57<00:00,  2.57it/s]\n",
      "100%|██████████| 37/37 [00:09<00:00,  3.72it/s]\n"
     ]
    },
    {
     "name": "stdout",
     "output_type": "stream",
     "text": [
      "Epoch 41, Train Loss: 0.32375748606549726, Test Loss: 0.43039505868344696\n"
     ]
    },
    {
     "name": "stderr",
     "output_type": "stream",
     "text": [
      "100%|██████████| 148/148 [00:58<00:00,  2.51it/s]\n",
      "100%|██████████| 37/37 [00:08<00:00,  4.17it/s]\n"
     ]
    },
    {
     "name": "stdout",
     "output_type": "stream",
     "text": [
      "Epoch 42, Train Loss: 0.3231644859990558, Test Loss: 0.43323698015631856\n"
     ]
    },
    {
     "name": "stderr",
     "output_type": "stream",
     "text": [
      "100%|██████████| 148/148 [00:57<00:00,  2.57it/s]\n",
      "100%|██████████| 37/37 [00:09<00:00,  3.86it/s]\n"
     ]
    },
    {
     "name": "stdout",
     "output_type": "stream",
     "text": [
      "Epoch 43, Train Loss: 0.3204655656339349, Test Loss: 0.4342032020559182\n"
     ]
    },
    {
     "name": "stderr",
     "output_type": "stream",
     "text": [
      "100%|██████████| 148/148 [00:57<00:00,  2.57it/s]\n",
      "100%|██████████| 37/37 [00:08<00:00,  4.18it/s]\n"
     ]
    },
    {
     "name": "stdout",
     "output_type": "stream",
     "text": [
      "Epoch 44, Train Loss: 0.3215728496780267, Test Loss: 0.4205830612698117\n"
     ]
    },
    {
     "name": "stderr",
     "output_type": "stream",
     "text": [
      "100%|██████████| 148/148 [00:57<00:00,  2.58it/s]\n",
      "100%|██████████| 37/37 [00:09<00:00,  3.78it/s]\n"
     ]
    },
    {
     "name": "stdout",
     "output_type": "stream",
     "text": [
      "Epoch 45, Train Loss: 0.31860770657658577, Test Loss: 0.4314569983933423\n"
     ]
    },
    {
     "name": "stderr",
     "output_type": "stream",
     "text": [
      "100%|██████████| 148/148 [00:57<00:00,  2.58it/s]\n",
      "100%|██████████| 37/37 [00:08<00:00,  4.18it/s]\n"
     ]
    },
    {
     "name": "stdout",
     "output_type": "stream",
     "text": [
      "Epoch 46, Train Loss: 0.31862189862373713, Test Loss: 0.4437551558823199\n"
     ]
    },
    {
     "name": "stderr",
     "output_type": "stream",
     "text": [
      "100%|██████████| 148/148 [00:58<00:00,  2.51it/s]\n",
      "100%|██████████| 37/37 [00:08<00:00,  4.27it/s]\n"
     ]
    },
    {
     "name": "stdout",
     "output_type": "stream",
     "text": [
      "Epoch 47, Train Loss: 0.3187955174897168, Test Loss: 0.4437333381659276\n"
     ]
    },
    {
     "name": "stderr",
     "output_type": "stream",
     "text": [
      "100%|██████████| 148/148 [00:57<00:00,  2.56it/s]\n",
      "100%|██████████| 37/37 [00:09<00:00,  3.75it/s]\n"
     ]
    },
    {
     "name": "stdout",
     "output_type": "stream",
     "text": [
      "Epoch 48, Train Loss: 0.3164471155787642, Test Loss: 0.4410127739648561\n"
     ]
    },
    {
     "name": "stderr",
     "output_type": "stream",
     "text": [
      "100%|██████████| 148/148 [00:57<00:00,  2.57it/s]\n",
      "100%|██████████| 37/37 [00:08<00:00,  4.18it/s]\n"
     ]
    },
    {
     "name": "stdout",
     "output_type": "stream",
     "text": [
      "Epoch 49, Train Loss: 0.31628493330365903, Test Loss: 0.43900337573644277\n"
     ]
    },
    {
     "name": "stderr",
     "output_type": "stream",
     "text": [
      "100%|██████████| 148/148 [00:57<00:00,  2.58it/s]\n",
      "100%|██████████| 37/37 [00:08<00:00,  4.20it/s]"
     ]
    },
    {
     "name": "stdout",
     "output_type": "stream",
     "text": [
      "Epoch 50, Train Loss: 0.3139468222554471, Test Loss: 0.4330272473193504\n"
     ]
    },
    {
     "name": "stderr",
     "output_type": "stream",
     "text": [
      "\n"
     ]
    }
   ],
   "source": [
    "num_iterates = 50\n",
    "UNet_trained_1 = train(model_1, train_loader, test_loader, criterion, optimizer, num_iterates, device)"
   ]
  },
  {
   "cell_type": "code",
   "execution_count": 41,
   "metadata": {},
   "outputs": [
    {
     "data": {
      "image/png": "[encoded data removed]",
      "text/plain": [
       "<Figure size 1000x500 with 1 Axes>"
      ]
     },
     "metadata": {},
     "output_type": "display_data"
    }
   ],
   "source": [
    "plt.figure(figsize=(10, 5))\n",
    "plt.plot(range(num_iterates), UNet_trained_1[0], label='Train Loss', color='red')\n",
    "plt.plot(range(num_iterates), UNet_trained_1[1], label='Test Loss', color='blue')\n",
    "plt.xlabel('Epochs')\n",
    "plt.ylabel('Loss')\n",
    "plt.title('Train and Test Loss Over Epochs of 50 and lr = 1e-6')\n",
    "plt.legend()\n",
    "plt.grid(True)\n",
    "plt.show()"
   ]
  },
  {
   "cell_type": "code",
   "execution_count": 52,
   "metadata": {},
   "outputs": [],
   "source": [
    "import time\n",
    "device = torch.device('cuda' if torch.cuda.is_available() else 'cpu')\n",
    "model_2 = UNet(n_class=1).to(device)\n",
    "\n",
    "lr = 1e-6\n",
    "optimizer = Adam(model_2.parameters(), lr=lr)\n",
    "\n",
    "criterion = nn.BCEWithLogitsLoss()\n",
    "\n",
    "def train(model, trainloader, testloader, criterion, optimizer, epochs, device):\n",
    "  best_test = np.inf\n",
    "  train_losses = []\n",
    "  test_losses = []\n",
    "\n",
    "  start_time = time.time()\n",
    "\n",
    "  for epoch in range(epochs):\n",
    "    epoch_loss = 0\n",
    "    test_loss = 0\n",
    "    epoch_start_time = time.time()\n",
    "\n",
    "\n",
    "    model.train()\n",
    "    for images, masks in tqdm(trainloader):\n",
    "\n",
    "      images, masks = images.to(device), masks.to(device)\n",
    "\n",
    "      optimizer.zero_grad()\n",
    "\n",
    "      outputs = model(images)\n",
    "\n",
    "      loss = criterion(outputs, masks)\n",
    "      loss.backward()\n",
    "      optimizer.step()\n",
    "      loss = loss.cpu()\n",
    "      epoch_loss += loss.item()\n",
    "\n",
    "    model.eval()\n",
    "    for image, masks in tqdm(testloader):\n",
    "      images, masks = images.to(device), masks.to(device)\n",
    "      outputs = model(images)\n",
    "      loss = criterion(outputs, masks)\n",
    "      loss = loss.cpu()\n",
    "      test_loss += loss.item()\n",
    "\n",
    "      \n",
    "    epoch_train_loss = epoch_loss / len(trainloader)\n",
    "    epoch_test_loss = test_loss / len(testloader)\n",
    "\n",
    "    train_losses.append(epoch_train_loss)\n",
    "    test_losses.append(epoch_test_loss)\n",
    "\n",
    "    if test_loss/len(testloader) < best_test:\n",
    "      best_test = test_loss/len(testloader)\n",
    "      lr_str = str(lr)\n",
    "      tile_size_str = str(tile_size)\n",
    "      torch.save(model.state_dict(), 'unet_' + lr_str + \"_\" + tile_size_str + '_' + str(epochs) + '.pth')\n",
    "\n",
    "    epoch_duration = time.time() - epoch_start_time\n",
    "    print(f'Epoch {epoch+1}, Train Loss: {epoch_loss/len(trainloader)}, Test Loss: {test_loss/len(testloader)}')\n",
    "\n",
    "  total_duration = time.time() - start_time\n",
    "  total_duration_minutes = total_duration / 60\n",
    "  print(f'Total Training Time: {total_duration_minutes:.2f} minutes')\n",
    "\n",
    "  return train_losses, test_losses\n",
    "\n",
    "    # plt.figure(figsize=(10, 5))\n",
    "    # plt.plot(range(1, epochs + 1), train_losses, label='Train Loss', color='red')\n",
    "    # plt.plot(range(1, epochs + 1), test_losses, label='Test Loss', color='blue')\n",
    "    # plt.xlabel('Epochs')\n",
    "    # plt.ylabel('Loss')\n",
    "    # plt.title('Train and Test Loss Over Epochs')\n",
    "    # plt.legend()\n",
    "    # plt.grid(True)\n",
    "    # plt.show()\n"
   ]
  },
  {
   "cell_type": "code",
   "execution_count": 53,
   "metadata": {},
   "outputs": [
    {
     "name": "stderr",
     "output_type": "stream",
     "text": [
      "100%|██████████| 148/148 [00:57<00:00,  2.59it/s]\n",
      "100%|██████████| 37/37 [00:08<00:00,  4.24it/s]\n"
     ]
    },
    {
     "name": "stdout",
     "output_type": "stream",
     "text": [
      "Epoch 1, Train Loss: 0.704665337462683, Test Loss: 0.6979683508744111\n"
     ]
    },
    {
     "name": "stderr",
     "output_type": "stream",
     "text": [
      "100%|██████████| 148/148 [00:58<00:00,  2.53it/s]\n",
      "100%|██████████| 37/37 [00:08<00:00,  4.31it/s]\n"
     ]
    },
    {
     "name": "stdout",
     "output_type": "stream",
     "text": [
      "Epoch 2, Train Loss: 0.6821940770825824, Test Loss: 0.6726618811890885\n"
     ]
    },
    {
     "name": "stderr",
     "output_type": "stream",
     "text": [
      "100%|██████████| 148/148 [00:58<00:00,  2.52it/s]\n",
      "100%|██████████| 37/37 [00:08<00:00,  4.12it/s]\n"
     ]
    },
    {
     "name": "stdout",
     "output_type": "stream",
     "text": [
      "Epoch 3, Train Loss: 0.6525642344275037, Test Loss: 0.6413781207961005\n"
     ]
    },
    {
     "name": "stderr",
     "output_type": "stream",
     "text": [
      "100%|██████████| 148/148 [00:57<00:00,  2.55it/s]\n",
      "100%|██████████| 37/37 [00:08<00:00,  4.30it/s]\n"
     ]
    },
    {
     "name": "stdout",
     "output_type": "stream",
     "text": [
      "Epoch 4, Train Loss: 0.6092798335326685, Test Loss: 0.5828633517832369\n"
     ]
    },
    {
     "name": "stderr",
     "output_type": "stream",
     "text": [
      "100%|██████████| 148/148 [00:59<00:00,  2.51it/s]\n",
      "100%|██████████| 37/37 [00:09<00:00,  3.97it/s]\n"
     ]
    },
    {
     "name": "stdout",
     "output_type": "stream",
     "text": [
      "Epoch 5, Train Loss: 0.4258889142121818, Test Loss: 0.39858655027441076\n"
     ]
    },
    {
     "name": "stderr",
     "output_type": "stream",
     "text": [
      "100%|██████████| 148/148 [00:57<00:00,  2.56it/s]\n",
      "100%|██████████| 37/37 [00:09<00:00,  3.84it/s]\n"
     ]
    },
    {
     "name": "stdout",
     "output_type": "stream",
     "text": [
      "Epoch 6, Train Loss: 0.3481513084592046, Test Loss: 0.40693058838715424\n"
     ]
    },
    {
     "name": "stderr",
     "output_type": "stream",
     "text": [
      "100%|██████████| 148/148 [00:57<00:00,  2.58it/s]\n",
      "100%|██████████| 37/37 [00:09<00:00,  3.86it/s]\n"
     ]
    },
    {
     "name": "stdout",
     "output_type": "stream",
     "text": [
      "Epoch 7, Train Loss: 0.3464867533562151, Test Loss: 0.40288260820749644\n"
     ]
    },
    {
     "name": "stderr",
     "output_type": "stream",
     "text": [
      "100%|██████████| 148/148 [00:58<00:00,  2.52it/s]\n",
      "100%|██████████| 37/37 [00:09<00:00,  4.07it/s]\n"
     ]
    },
    {
     "name": "stdout",
     "output_type": "stream",
     "text": [
      "Epoch 8, Train Loss: 0.34540006014946345, Test Loss: 0.4043195138911943\n"
     ]
    },
    {
     "name": "stderr",
     "output_type": "stream",
     "text": [
      "100%|██████████| 148/148 [00:57<00:00,  2.56it/s]\n",
      "100%|██████████| 37/37 [00:08<00:00,  4.14it/s]\n"
     ]
    },
    {
     "name": "stdout",
     "output_type": "stream",
     "text": [
      "Epoch 9, Train Loss: 0.34541975354423393, Test Loss: 0.4065940847267976\n"
     ]
    },
    {
     "name": "stderr",
     "output_type": "stream",
     "text": [
      "100%|██████████| 148/148 [00:57<00:00,  2.57it/s]\n",
      "100%|██████████| 37/37 [00:08<00:00,  4.30it/s]\n"
     ]
    },
    {
     "name": "stdout",
     "output_type": "stream",
     "text": [
      "Epoch 10, Train Loss: 0.3438094446586596, Test Loss: 0.4052401495140952\n"
     ]
    },
    {
     "name": "stderr",
     "output_type": "stream",
     "text": [
      "100%|██████████| 148/148 [00:57<00:00,  2.57it/s]\n",
      "100%|██████████| 37/37 [00:10<00:00,  3.69it/s]\n"
     ]
    },
    {
     "name": "stdout",
     "output_type": "stream",
     "text": [
      "Epoch 11, Train Loss: 0.3426873504712775, Test Loss: 0.39144846152614904\n"
     ]
    },
    {
     "name": "stderr",
     "output_type": "stream",
     "text": [
      "100%|██████████| 148/148 [00:57<00:00,  2.56it/s]\n",
      "100%|██████████| 37/37 [00:10<00:00,  3.60it/s]\n"
     ]
    },
    {
     "name": "stdout",
     "output_type": "stream",
     "text": [
      "Epoch 12, Train Loss: 0.342335348596444, Test Loss: 0.40406230978063634\n"
     ]
    },
    {
     "name": "stderr",
     "output_type": "stream",
     "text": [
      "100%|██████████| 148/148 [00:57<00:00,  2.58it/s]\n",
      "100%|██████████| 37/37 [00:08<00:00,  4.40it/s]\n"
     ]
    },
    {
     "name": "stdout",
     "output_type": "stream",
     "text": [
      "Epoch 13, Train Loss: 0.34183747472392545, Test Loss: 0.39921212679631\n"
     ]
    },
    {
     "name": "stderr",
     "output_type": "stream",
     "text": [
      "100%|██████████| 148/148 [00:57<00:00,  2.58it/s]\n",
      "100%|██████████| 37/37 [00:08<00:00,  4.21it/s]\n"
     ]
    },
    {
     "name": "stdout",
     "output_type": "stream",
     "text": [
      "Epoch 14, Train Loss: 0.34210728269976537, Test Loss: 0.41252633929252625\n"
     ]
    },
    {
     "name": "stderr",
     "output_type": "stream",
     "text": [
      "100%|██████████| 148/148 [00:57<00:00,  2.57it/s]\n",
      "100%|██████████| 37/37 [00:09<00:00,  4.00it/s]\n"
     ]
    },
    {
     "name": "stdout",
     "output_type": "stream",
     "text": [
      "Epoch 15, Train Loss: 0.3396070559282561, Test Loss: 0.39455273062796203\n"
     ]
    },
    {
     "name": "stderr",
     "output_type": "stream",
     "text": [
      "100%|██████████| 148/148 [00:58<00:00,  2.52it/s]\n",
      "100%|██████████| 37/37 [00:08<00:00,  4.31it/s]\n"
     ]
    },
    {
     "name": "stdout",
     "output_type": "stream",
     "text": [
      "Epoch 16, Train Loss: 0.3404969954611482, Test Loss: 0.4035537470434163\n"
     ]
    },
    {
     "name": "stderr",
     "output_type": "stream",
     "text": [
      "100%|██████████| 148/148 [00:57<00:00,  2.57it/s]\n",
      "100%|██████████| 37/37 [00:09<00:00,  3.72it/s]\n"
     ]
    },
    {
     "name": "stdout",
     "output_type": "stream",
     "text": [
      "Epoch 17, Train Loss: 0.33783619161191825, Test Loss: 0.3897966448519681\n"
     ]
    },
    {
     "name": "stderr",
     "output_type": "stream",
     "text": [
      "100%|██████████| 148/148 [00:57<00:00,  2.56it/s]\n",
      "100%|██████████| 37/37 [00:09<00:00,  3.86it/s]\n"
     ]
    },
    {
     "name": "stdout",
     "output_type": "stream",
     "text": [
      "Epoch 18, Train Loss: 0.3392373056125802, Test Loss: 0.41570914315210805\n"
     ]
    },
    {
     "name": "stderr",
     "output_type": "stream",
     "text": [
      "100%|██████████| 148/148 [00:58<00:00,  2.54it/s]\n",
      "100%|██████████| 37/37 [00:09<00:00,  3.94it/s]\n"
     ]
    },
    {
     "name": "stdout",
     "output_type": "stream",
     "text": [
      "Epoch 19, Train Loss: 0.3391317481527457, Test Loss: 0.4057771132604496\n"
     ]
    },
    {
     "name": "stderr",
     "output_type": "stream",
     "text": [
      "100%|██████████| 148/148 [00:57<00:00,  2.57it/s]\n",
      "100%|██████████| 37/37 [00:08<00:00,  4.17it/s]\n"
     ]
    },
    {
     "name": "stdout",
     "output_type": "stream",
     "text": [
      "Epoch 20, Train Loss: 0.33747767984262994, Test Loss: 0.3993173479228406\n"
     ]
    },
    {
     "name": "stderr",
     "output_type": "stream",
     "text": [
      "100%|██████████| 148/148 [00:57<00:00,  2.57it/s]\n",
      "100%|██████████| 37/37 [00:08<00:00,  4.18it/s]\n"
     ]
    },
    {
     "name": "stdout",
     "output_type": "stream",
     "text": [
      "Epoch 21, Train Loss: 0.336417457944638, Test Loss: 0.40731305367237813\n"
     ]
    },
    {
     "name": "stderr",
     "output_type": "stream",
     "text": [
      "100%|██████████| 148/148 [00:57<00:00,  2.57it/s]\n",
      "100%|██████████| 37/37 [00:08<00:00,  4.24it/s]\n"
     ]
    },
    {
     "name": "stdout",
     "output_type": "stream",
     "text": [
      "Epoch 22, Train Loss: 0.3376076723876837, Test Loss: 0.4165493866076341\n"
     ]
    },
    {
     "name": "stderr",
     "output_type": "stream",
     "text": [
      "100%|██████████| 148/148 [00:57<00:00,  2.57it/s]\n",
      "100%|██████████| 37/37 [00:09<00:00,  3.84it/s]\n"
     ]
    },
    {
     "name": "stdout",
     "output_type": "stream",
     "text": [
      "Epoch 23, Train Loss: 0.33672757874670867, Test Loss: 0.41196714824921377\n"
     ]
    },
    {
     "name": "stderr",
     "output_type": "stream",
     "text": [
      "100%|██████████| 148/148 [00:57<00:00,  2.57it/s]\n",
      "100%|██████████| 37/37 [00:08<00:00,  4.26it/s]\n"
     ]
    },
    {
     "name": "stdout",
     "output_type": "stream",
     "text": [
      "Epoch 24, Train Loss: 0.3357355767307249, Test Loss: 0.3923331039982873\n"
     ]
    },
    {
     "name": "stderr",
     "output_type": "stream",
     "text": [
      "100%|██████████| 148/148 [00:57<00:00,  2.58it/s]\n",
      "100%|██████████| 37/37 [00:10<00:00,  3.61it/s]\n"
     ]
    },
    {
     "name": "stdout",
     "output_type": "stream",
     "text": [
      "Epoch 25, Train Loss: 0.3361732627995111, Test Loss: 0.4114431489158321\n"
     ]
    },
    {
     "name": "stderr",
     "output_type": "stream",
     "text": [
      "100%|██████████| 148/148 [00:57<00:00,  2.58it/s]\n",
      "100%|██████████| 37/37 [00:08<00:00,  4.21it/s]\n"
     ]
    },
    {
     "name": "stdout",
     "output_type": "stream",
     "text": [
      "Epoch 26, Train Loss: 0.3340506598957487, Test Loss: 0.43088503181934357\n"
     ]
    },
    {
     "name": "stderr",
     "output_type": "stream",
     "text": [
      "100%|██████████| 148/148 [00:57<00:00,  2.58it/s]\n",
      "100%|██████████| 37/37 [00:09<00:00,  3.93it/s]\n"
     ]
    },
    {
     "name": "stdout",
     "output_type": "stream",
     "text": [
      "Epoch 27, Train Loss: 0.3343791492484711, Test Loss: 0.4052954146990905\n"
     ]
    },
    {
     "name": "stderr",
     "output_type": "stream",
     "text": [
      "100%|██████████| 148/148 [00:58<00:00,  2.52it/s]\n",
      "100%|██████████| 37/37 [00:08<00:00,  4.16it/s]\n"
     ]
    },
    {
     "name": "stdout",
     "output_type": "stream",
     "text": [
      "Epoch 28, Train Loss: 0.33380792068468557, Test Loss: 0.41699664898820826\n"
     ]
    },
    {
     "name": "stderr",
     "output_type": "stream",
     "text": [
      "100%|██████████| 148/148 [00:58<00:00,  2.52it/s]\n",
      "100%|██████████| 37/37 [00:08<00:00,  4.15it/s]\n"
     ]
    },
    {
     "name": "stdout",
     "output_type": "stream",
     "text": [
      "Epoch 29, Train Loss: 0.3331085967554434, Test Loss: 0.42213469421541366\n"
     ]
    },
    {
     "name": "stderr",
     "output_type": "stream",
     "text": [
      "100%|██████████| 148/148 [00:58<00:00,  2.55it/s]\n",
      "100%|██████████| 37/37 [00:10<00:00,  3.66it/s]\n"
     ]
    },
    {
     "name": "stdout",
     "output_type": "stream",
     "text": [
      "Epoch 30, Train Loss: 0.3327079993244764, Test Loss: 0.4094872075963665\n"
     ]
    },
    {
     "name": "stderr",
     "output_type": "stream",
     "text": [
      "100%|██████████| 148/148 [00:57<00:00,  2.56it/s]\n",
      "100%|██████████| 37/37 [00:09<00:00,  3.86it/s]\n"
     ]
    },
    {
     "name": "stdout",
     "output_type": "stream",
     "text": [
      "Epoch 31, Train Loss: 0.3320149936386057, Test Loss: 0.4460768619099179\n"
     ]
    },
    {
     "name": "stderr",
     "output_type": "stream",
     "text": [
      "100%|██████████| 148/148 [00:57<00:00,  2.58it/s]\n",
      "100%|██████████| 37/37 [00:08<00:00,  4.35it/s]\n"
     ]
    },
    {
     "name": "stdout",
     "output_type": "stream",
     "text": [
      "Epoch 32, Train Loss: 0.33000550398955475, Test Loss: 0.4182918832914249\n"
     ]
    },
    {
     "name": "stderr",
     "output_type": "stream",
     "text": [
      "100%|██████████| 148/148 [00:58<00:00,  2.52it/s]\n",
      "100%|██████████| 37/37 [00:10<00:00,  3.62it/s]\n"
     ]
    },
    {
     "name": "stdout",
     "output_type": "stream",
     "text": [
      "Epoch 33, Train Loss: 0.33018256260736567, Test Loss: 0.40419819669143575\n"
     ]
    },
    {
     "name": "stderr",
     "output_type": "stream",
     "text": [
      "100%|██████████| 148/148 [00:58<00:00,  2.55it/s]\n",
      "100%|██████████| 37/37 [00:09<00:00,  3.84it/s]\n"
     ]
    },
    {
     "name": "stdout",
     "output_type": "stream",
     "text": [
      "Epoch 34, Train Loss: 0.32939967009666804, Test Loss: 0.44337756770688136\n"
     ]
    },
    {
     "name": "stderr",
     "output_type": "stream",
     "text": [
      "100%|██████████| 148/148 [00:58<00:00,  2.52it/s]\n",
      "100%|██████████| 37/37 [00:08<00:00,  4.26it/s]\n"
     ]
    },
    {
     "name": "stdout",
     "output_type": "stream",
     "text": [
      "Epoch 35, Train Loss: 0.3289078344163057, Test Loss: 0.4310643262154347\n"
     ]
    },
    {
     "name": "stderr",
     "output_type": "stream",
     "text": [
      "100%|██████████| 148/148 [00:57<00:00,  2.57it/s]\n",
      "100%|██████████| 37/37 [00:09<00:00,  3.79it/s]\n"
     ]
    },
    {
     "name": "stdout",
     "output_type": "stream",
     "text": [
      "Epoch 36, Train Loss: 0.3285327213438782, Test Loss: 0.44263530462174805\n"
     ]
    },
    {
     "name": "stderr",
     "output_type": "stream",
     "text": [
      "100%|██████████| 148/148 [00:58<00:00,  2.52it/s]\n",
      "100%|██████████| 37/37 [00:08<00:00,  4.15it/s]\n"
     ]
    },
    {
     "name": "stdout",
     "output_type": "stream",
     "text": [
      "Epoch 37, Train Loss: 0.32848250538714835, Test Loss: 0.4093391871130144\n"
     ]
    },
    {
     "name": "stderr",
     "output_type": "stream",
     "text": [
      "100%|██████████| 148/148 [00:57<00:00,  2.57it/s]\n",
      "100%|██████████| 37/37 [00:08<00:00,  4.26it/s]\n"
     ]
    },
    {
     "name": "stdout",
     "output_type": "stream",
     "text": [
      "Epoch 38, Train Loss: 0.32613066709726246, Test Loss: 0.42840775927981817\n"
     ]
    },
    {
     "name": "stderr",
     "output_type": "stream",
     "text": [
      "100%|██████████| 148/148 [00:58<00:00,  2.52it/s]\n",
      "100%|██████████| 37/37 [00:09<00:00,  4.11it/s]\n"
     ]
    },
    {
     "name": "stdout",
     "output_type": "stream",
     "text": [
      "Epoch 39, Train Loss: 0.32639372857237187, Test Loss: 0.44566286294846924\n"
     ]
    },
    {
     "name": "stderr",
     "output_type": "stream",
     "text": [
      "100%|██████████| 148/148 [00:57<00:00,  2.58it/s]\n",
      "100%|██████████| 37/37 [00:09<00:00,  3.80it/s]\n"
     ]
    },
    {
     "name": "stdout",
     "output_type": "stream",
     "text": [
      "Epoch 40, Train Loss: 0.32483021386370464, Test Loss: 0.43268408888095133\n"
     ]
    },
    {
     "name": "stderr",
     "output_type": "stream",
     "text": [
      "100%|██████████| 148/148 [00:58<00:00,  2.51it/s]\n",
      "100%|██████████| 37/37 [00:09<00:00,  4.02it/s]\n"
     ]
    },
    {
     "name": "stdout",
     "output_type": "stream",
     "text": [
      "Epoch 41, Train Loss: 0.3242539633065462, Test Loss: 0.43681742210645935\n"
     ]
    },
    {
     "name": "stderr",
     "output_type": "stream",
     "text": [
      "100%|██████████| 148/148 [00:58<00:00,  2.53it/s]\n",
      "100%|██████████| 37/37 [00:09<00:00,  3.75it/s]\n"
     ]
    },
    {
     "name": "stdout",
     "output_type": "stream",
     "text": [
      "Epoch 42, Train Loss: 0.32361867022071333, Test Loss: 0.4206915674982844\n"
     ]
    },
    {
     "name": "stderr",
     "output_type": "stream",
     "text": [
      "100%|██████████| 148/148 [00:58<00:00,  2.51it/s]\n",
      "100%|██████████| 37/37 [00:08<00:00,  4.11it/s]\n"
     ]
    },
    {
     "name": "stdout",
     "output_type": "stream",
     "text": [
      "Epoch 43, Train Loss: 0.32255940159430374, Test Loss: 0.4395111348177936\n"
     ]
    },
    {
     "name": "stderr",
     "output_type": "stream",
     "text": [
      "100%|██████████| 148/148 [00:57<00:00,  2.58it/s]\n",
      "100%|██████████| 37/37 [00:09<00:00,  3.81it/s]\n"
     ]
    },
    {
     "name": "stdout",
     "output_type": "stream",
     "text": [
      "Epoch 44, Train Loss: 0.32140187647294355, Test Loss: 0.45459753154097376\n"
     ]
    },
    {
     "name": "stderr",
     "output_type": "stream",
     "text": [
      "100%|██████████| 148/148 [00:57<00:00,  2.56it/s]\n",
      "100%|██████████| 37/37 [00:08<00:00,  4.26it/s]\n"
     ]
    },
    {
     "name": "stdout",
     "output_type": "stream",
     "text": [
      "Epoch 45, Train Loss: 0.3216081781161798, Test Loss: 0.4340003624155715\n"
     ]
    },
    {
     "name": "stderr",
     "output_type": "stream",
     "text": [
      "100%|██████████| 148/148 [00:59<00:00,  2.51it/s]\n",
      "100%|██████████| 37/37 [00:08<00:00,  4.21it/s]\n"
     ]
    },
    {
     "name": "stdout",
     "output_type": "stream",
     "text": [
      "Epoch 46, Train Loss: 0.3185001046371621, Test Loss: 0.4506357936440287\n"
     ]
    },
    {
     "name": "stderr",
     "output_type": "stream",
     "text": [
      "100%|██████████| 148/148 [00:57<00:00,  2.58it/s]\n",
      "100%|██████████| 37/37 [00:09<00:00,  3.88it/s]\n"
     ]
    },
    {
     "name": "stdout",
     "output_type": "stream",
     "text": [
      "Epoch 47, Train Loss: 0.3178285099565983, Test Loss: 0.43515635221391114\n"
     ]
    },
    {
     "name": "stderr",
     "output_type": "stream",
     "text": [
      "100%|██████████| 148/148 [00:57<00:00,  2.57it/s]\n",
      "100%|██████████| 37/37 [00:08<00:00,  4.33it/s]\n"
     ]
    },
    {
     "name": "stdout",
     "output_type": "stream",
     "text": [
      "Epoch 48, Train Loss: 0.31914578554396694, Test Loss: 0.4666147095126075\n"
     ]
    },
    {
     "name": "stderr",
     "output_type": "stream",
     "text": [
      "100%|██████████| 148/148 [00:57<00:00,  2.58it/s]\n",
      "100%|██████████| 37/37 [00:10<00:00,  3.67it/s]\n"
     ]
    },
    {
     "name": "stdout",
     "output_type": "stream",
     "text": [
      "Epoch 49, Train Loss: 0.31624475267489216, Test Loss: 0.4659221832816665\n"
     ]
    },
    {
     "name": "stderr",
     "output_type": "stream",
     "text": [
      "100%|██████████| 148/148 [00:58<00:00,  2.51it/s]\n",
      "100%|██████████| 37/37 [00:08<00:00,  4.18it/s]\n"
     ]
    },
    {
     "name": "stdout",
     "output_type": "stream",
     "text": [
      "Epoch 50, Train Loss: 0.31575035857590467, Test Loss: 0.44945304780393036\n"
     ]
    },
    {
     "name": "stderr",
     "output_type": "stream",
     "text": [
      "100%|██████████| 148/148 [00:58<00:00,  2.52it/s]\n",
      "100%|██████████| 37/37 [00:09<00:00,  3.73it/s]\n"
     ]
    },
    {
     "name": "stdout",
     "output_type": "stream",
     "text": [
      "Epoch 51, Train Loss: 0.3156777525169624, Test Loss: 0.4364383877129168\n"
     ]
    },
    {
     "name": "stderr",
     "output_type": "stream",
     "text": [
      "100%|██████████| 148/148 [00:57<00:00,  2.56it/s]\n",
      "100%|██████████| 37/37 [00:09<00:00,  3.72it/s]\n"
     ]
    },
    {
     "name": "stdout",
     "output_type": "stream",
     "text": [
      "Epoch 52, Train Loss: 0.3136029069286746, Test Loss: 0.4526092925587216\n"
     ]
    },
    {
     "name": "stderr",
     "output_type": "stream",
     "text": [
      "100%|██████████| 148/148 [00:57<00:00,  2.55it/s]\n",
      "100%|██████████| 37/37 [00:08<00:00,  4.20it/s]\n"
     ]
    },
    {
     "name": "stdout",
     "output_type": "stream",
     "text": [
      "Epoch 53, Train Loss: 0.3115995994492157, Test Loss: 0.4540412023260787\n"
     ]
    },
    {
     "name": "stderr",
     "output_type": "stream",
     "text": [
      "100%|██████████| 148/148 [00:58<00:00,  2.51it/s]\n",
      "100%|██████████| 37/37 [00:09<00:00,  3.72it/s]\n"
     ]
    },
    {
     "name": "stdout",
     "output_type": "stream",
     "text": [
      "Epoch 54, Train Loss: 0.31196114335309816, Test Loss: 0.4649330301059259\n"
     ]
    },
    {
     "name": "stderr",
     "output_type": "stream",
     "text": [
      "100%|██████████| 148/148 [00:58<00:00,  2.55it/s]\n",
      "100%|██████████| 37/37 [00:09<00:00,  3.84it/s]\n"
     ]
    },
    {
     "name": "stdout",
     "output_type": "stream",
     "text": [
      "Epoch 55, Train Loss: 0.31009726090407047, Test Loss: 0.44302306263833435\n"
     ]
    },
    {
     "name": "stderr",
     "output_type": "stream",
     "text": [
      "100%|██████████| 148/148 [00:57<00:00,  2.59it/s]\n",
      "100%|██████████| 37/37 [00:08<00:00,  4.22it/s]\n"
     ]
    },
    {
     "name": "stdout",
     "output_type": "stream",
     "text": [
      "Epoch 56, Train Loss: 0.31081735876363675, Test Loss: 0.4916683568342312\n"
     ]
    },
    {
     "name": "stderr",
     "output_type": "stream",
     "text": [
      "100%|██████████| 148/148 [00:57<00:00,  2.57it/s]\n",
      "100%|██████████| 37/37 [00:09<00:00,  3.82it/s]\n"
     ]
    },
    {
     "name": "stdout",
     "output_type": "stream",
     "text": [
      "Epoch 57, Train Loss: 0.3106339705755582, Test Loss: 0.44129835149726354\n"
     ]
    },
    {
     "name": "stderr",
     "output_type": "stream",
     "text": [
      "100%|██████████| 148/148 [00:58<00:00,  2.51it/s]\n",
      "100%|██████████| 37/37 [00:08<00:00,  4.16it/s]\n"
     ]
    },
    {
     "name": "stdout",
     "output_type": "stream",
     "text": [
      "Epoch 58, Train Loss: 0.30889373796211705, Test Loss: 0.4653026840171298\n"
     ]
    },
    {
     "name": "stderr",
     "output_type": "stream",
     "text": [
      "100%|██████████| 148/148 [00:57<00:00,  2.58it/s]\n",
      "100%|██████████| 37/37 [00:09<00:00,  3.98it/s]\n"
     ]
    },
    {
     "name": "stdout",
     "output_type": "stream",
     "text": [
      "Epoch 59, Train Loss: 0.3076404454941685, Test Loss: 0.42515148021079396\n"
     ]
    },
    {
     "name": "stderr",
     "output_type": "stream",
     "text": [
      "100%|██████████| 148/148 [00:57<00:00,  2.57it/s]\n",
      "100%|██████████| 37/37 [00:08<00:00,  4.22it/s]\n"
     ]
    },
    {
     "name": "stdout",
     "output_type": "stream",
     "text": [
      "Epoch 60, Train Loss: 0.30645902505194816, Test Loss: 0.45427464794468236\n"
     ]
    },
    {
     "name": "stderr",
     "output_type": "stream",
     "text": [
      "100%|██████████| 148/148 [00:57<00:00,  2.56it/s]\n",
      "100%|██████████| 37/37 [00:09<00:00,  3.73it/s]\n"
     ]
    },
    {
     "name": "stdout",
     "output_type": "stream",
     "text": [
      "Epoch 61, Train Loss: 0.30696365710448575, Test Loss: 0.4635961627638018\n"
     ]
    },
    {
     "name": "stderr",
     "output_type": "stream",
     "text": [
      "100%|██████████| 148/148 [00:57<00:00,  2.55it/s]\n",
      "100%|██████████| 37/37 [00:08<00:00,  4.18it/s]\n"
     ]
    },
    {
     "name": "stdout",
     "output_type": "stream",
     "text": [
      "Epoch 62, Train Loss: 0.30646222613349156, Test Loss: 0.49775311552189494\n"
     ]
    },
    {
     "name": "stderr",
     "output_type": "stream",
     "text": [
      "100%|██████████| 148/148 [00:59<00:00,  2.50it/s]\n",
      "100%|██████████| 37/37 [00:08<00:00,  4.25it/s]\n"
     ]
    },
    {
     "name": "stdout",
     "output_type": "stream",
     "text": [
      "Epoch 63, Train Loss: 0.3059437421427385, Test Loss: 0.4880001150272988\n"
     ]
    },
    {
     "name": "stderr",
     "output_type": "stream",
     "text": [
      "100%|██████████| 148/148 [00:57<00:00,  2.57it/s]\n",
      "100%|██████████| 37/37 [00:09<00:00,  4.05it/s]\n"
     ]
    },
    {
     "name": "stdout",
     "output_type": "stream",
     "text": [
      "Epoch 64, Train Loss: 0.3043073169836724, Test Loss: 0.4798565905641865\n"
     ]
    },
    {
     "name": "stderr",
     "output_type": "stream",
     "text": [
      "100%|██████████| 148/148 [00:57<00:00,  2.57it/s]\n",
      "100%|██████████| 37/37 [00:09<00:00,  4.10it/s]\n"
     ]
    },
    {
     "name": "stdout",
     "output_type": "stream",
     "text": [
      "Epoch 65, Train Loss: 0.30439691456991275, Test Loss: 0.49143320563677195\n"
     ]
    },
    {
     "name": "stderr",
     "output_type": "stream",
     "text": [
      "100%|██████████| 148/148 [00:58<00:00,  2.55it/s]\n",
      "100%|██████████| 37/37 [00:09<00:00,  3.88it/s]\n"
     ]
    },
    {
     "name": "stdout",
     "output_type": "stream",
     "text": [
      "Epoch 66, Train Loss: 0.3050655455303353, Test Loss: 0.4734504810861639\n"
     ]
    },
    {
     "name": "stderr",
     "output_type": "stream",
     "text": [
      "100%|██████████| 148/148 [00:57<00:00,  2.55it/s]\n",
      "100%|██████████| 37/37 [00:09<00:00,  3.90it/s]\n"
     ]
    },
    {
     "name": "stdout",
     "output_type": "stream",
     "text": [
      "Epoch 67, Train Loss: 0.30353745395267334, Test Loss: 0.49115879793424866\n"
     ]
    },
    {
     "name": "stderr",
     "output_type": "stream",
     "text": [
      "100%|██████████| 148/148 [00:58<00:00,  2.51it/s]\n",
      "100%|██████████| 37/37 [00:08<00:00,  4.35it/s]\n"
     ]
    },
    {
     "name": "stdout",
     "output_type": "stream",
     "text": [
      "Epoch 68, Train Loss: 0.3033682174376539, Test Loss: 0.4754433603705587\n"
     ]
    },
    {
     "name": "stderr",
     "output_type": "stream",
     "text": [
      "100%|██████████| 148/148 [00:59<00:00,  2.51it/s]\n",
      "100%|██████████| 37/37 [00:08<00:00,  4.26it/s]\n"
     ]
    },
    {
     "name": "stdout",
     "output_type": "stream",
     "text": [
      "Epoch 69, Train Loss: 0.3036118485033512, Test Loss: 0.4364408260664424\n"
     ]
    },
    {
     "name": "stderr",
     "output_type": "stream",
     "text": [
      "100%|██████████| 148/148 [00:57<00:00,  2.56it/s]\n",
      "100%|██████████| 37/37 [00:10<00:00,  3.66it/s]\n"
     ]
    },
    {
     "name": "stdout",
     "output_type": "stream",
     "text": [
      "Epoch 70, Train Loss: 0.3034905803868094, Test Loss: 0.48816982636580597\n"
     ]
    },
    {
     "name": "stderr",
     "output_type": "stream",
     "text": [
      "100%|██████████| 148/148 [00:57<00:00,  2.57it/s]\n",
      "100%|██████████| 37/37 [00:08<00:00,  4.14it/s]\n"
     ]
    },
    {
     "name": "stdout",
     "output_type": "stream",
     "text": [
      "Epoch 71, Train Loss: 0.30277567724319726, Test Loss: 0.4586025460346325\n"
     ]
    },
    {
     "name": "stderr",
     "output_type": "stream",
     "text": [
      "100%|██████████| 148/148 [00:58<00:00,  2.54it/s]\n",
      "100%|██████████| 37/37 [00:08<00:00,  4.42it/s]\n"
     ]
    },
    {
     "name": "stdout",
     "output_type": "stream",
     "text": [
      "Epoch 72, Train Loss: 0.30277120588800394, Test Loss: 0.4735293162835611\n"
     ]
    },
    {
     "name": "stderr",
     "output_type": "stream",
     "text": [
      "100%|██████████| 148/148 [00:58<00:00,  2.52it/s]\n",
      "100%|██████████| 37/37 [00:08<00:00,  4.16it/s]\n"
     ]
    },
    {
     "name": "stdout",
     "output_type": "stream",
     "text": [
      "Epoch 73, Train Loss: 0.3024785210051247, Test Loss: 0.47902018556723724\n"
     ]
    },
    {
     "name": "stderr",
     "output_type": "stream",
     "text": [
      "100%|██████████| 148/148 [00:57<00:00,  2.56it/s]\n",
      "100%|██████████| 37/37 [00:08<00:00,  4.16it/s]\n"
     ]
    },
    {
     "name": "stdout",
     "output_type": "stream",
     "text": [
      "Epoch 74, Train Loss: 0.3022117025747493, Test Loss: 0.46194399812737025\n"
     ]
    },
    {
     "name": "stderr",
     "output_type": "stream",
     "text": [
      "100%|██████████| 148/148 [00:58<00:00,  2.53it/s]\n",
      "100%|██████████| 37/37 [00:10<00:00,  3.69it/s]\n"
     ]
    },
    {
     "name": "stdout",
     "output_type": "stream",
     "text": [
      "Epoch 75, Train Loss: 0.3014573713110105, Test Loss: 0.47606065708237727\n"
     ]
    },
    {
     "name": "stderr",
     "output_type": "stream",
     "text": [
      "100%|██████████| 148/148 [00:57<00:00,  2.56it/s]\n",
      "100%|██████████| 37/37 [00:09<00:00,  3.78it/s]\n"
     ]
    },
    {
     "name": "stdout",
     "output_type": "stream",
     "text": [
      "Epoch 76, Train Loss: 0.3004997679711999, Test Loss: 0.4652896926209733\n"
     ]
    },
    {
     "name": "stderr",
     "output_type": "stream",
     "text": [
      "100%|██████████| 148/148 [00:57<00:00,  2.56it/s]\n",
      "100%|██████████| 37/37 [00:10<00:00,  3.70it/s]\n"
     ]
    },
    {
     "name": "stdout",
     "output_type": "stream",
     "text": [
      "Epoch 77, Train Loss: 0.3018958874650904, Test Loss: 0.40777187129935705\n"
     ]
    },
    {
     "name": "stderr",
     "output_type": "stream",
     "text": [
      "100%|██████████| 148/148 [00:57<00:00,  2.56it/s]\n",
      "100%|██████████| 37/37 [00:08<00:00,  4.33it/s]\n"
     ]
    },
    {
     "name": "stdout",
     "output_type": "stream",
     "text": [
      "Epoch 78, Train Loss: 0.3013809733596203, Test Loss: 0.4929131366111137\n"
     ]
    },
    {
     "name": "stderr",
     "output_type": "stream",
     "text": [
      "100%|██████████| 148/148 [00:58<00:00,  2.52it/s]\n",
      "100%|██████████| 37/37 [00:08<00:00,  4.31it/s]\n"
     ]
    },
    {
     "name": "stdout",
     "output_type": "stream",
     "text": [
      "Epoch 79, Train Loss: 0.3002056587688826, Test Loss: 0.4812631039200602\n"
     ]
    },
    {
     "name": "stderr",
     "output_type": "stream",
     "text": [
      "100%|██████████| 148/148 [00:57<00:00,  2.56it/s]\n",
      "100%|██████████| 37/37 [00:08<00:00,  4.21it/s]\n"
     ]
    },
    {
     "name": "stdout",
     "output_type": "stream",
     "text": [
      "Epoch 80, Train Loss: 0.3016366263901865, Test Loss: 0.502281292467504\n"
     ]
    },
    {
     "name": "stderr",
     "output_type": "stream",
     "text": [
      "100%|██████████| 148/148 [00:58<00:00,  2.54it/s]\n",
      "100%|██████████| 37/37 [00:09<00:00,  4.10it/s]\n"
     ]
    },
    {
     "name": "stdout",
     "output_type": "stream",
     "text": [
      "Epoch 81, Train Loss: 0.30030576305816303, Test Loss: 0.4634108676298245\n"
     ]
    },
    {
     "name": "stderr",
     "output_type": "stream",
     "text": [
      "100%|██████████| 148/148 [00:58<00:00,  2.53it/s]\n",
      "100%|██████████| 37/37 [00:08<00:00,  4.18it/s]\n"
     ]
    },
    {
     "name": "stdout",
     "output_type": "stream",
     "text": [
      "Epoch 82, Train Loss: 0.3005460225851149, Test Loss: 0.5089495278693534\n"
     ]
    },
    {
     "name": "stderr",
     "output_type": "stream",
     "text": [
      "100%|██████████| 148/148 [00:57<00:00,  2.57it/s]\n",
      "100%|██████████| 37/37 [00:10<00:00,  3.70it/s]\n"
     ]
    },
    {
     "name": "stdout",
     "output_type": "stream",
     "text": [
      "Epoch 83, Train Loss: 0.30005917204795657, Test Loss: 0.46768215943027186\n"
     ]
    },
    {
     "name": "stderr",
     "output_type": "stream",
     "text": [
      "100%|██████████| 148/148 [00:57<00:00,  2.57it/s]\n",
      "100%|██████████| 37/37 [00:08<00:00,  4.32it/s]\n"
     ]
    },
    {
     "name": "stdout",
     "output_type": "stream",
     "text": [
      "Epoch 84, Train Loss: 0.30034926916296417, Test Loss: 0.525319955236203\n"
     ]
    },
    {
     "name": "stderr",
     "output_type": "stream",
     "text": [
      "100%|██████████| 148/148 [00:57<00:00,  2.56it/s]\n",
      "100%|██████████| 37/37 [00:09<00:00,  3.72it/s]\n"
     ]
    },
    {
     "name": "stdout",
     "output_type": "stream",
     "text": [
      "Epoch 85, Train Loss: 0.2991940298344235, Test Loss: 0.5209397041314358\n"
     ]
    },
    {
     "name": "stderr",
     "output_type": "stream",
     "text": [
      "100%|██████████| 148/148 [00:57<00:00,  2.57it/s]\n",
      "100%|██████████| 37/37 [00:09<00:00,  3.72it/s]\n"
     ]
    },
    {
     "name": "stdout",
     "output_type": "stream",
     "text": [
      "Epoch 86, Train Loss: 0.29854370829825466, Test Loss: 0.48583412089863337\n"
     ]
    },
    {
     "name": "stderr",
     "output_type": "stream",
     "text": [
      "100%|██████████| 148/148 [00:57<00:00,  2.57it/s]\n",
      "100%|██████████| 37/37 [00:08<00:00,  4.30it/s]\n"
     ]
    },
    {
     "name": "stdout",
     "output_type": "stream",
     "text": [
      "Epoch 87, Train Loss: 0.29953345706736717, Test Loss: 0.5121979461731138\n"
     ]
    },
    {
     "name": "stderr",
     "output_type": "stream",
     "text": [
      "100%|██████████| 148/148 [00:58<00:00,  2.52it/s]\n",
      "100%|██████████| 37/37 [00:10<00:00,  3.68it/s]\n"
     ]
    },
    {
     "name": "stdout",
     "output_type": "stream",
     "text": [
      "Epoch 88, Train Loss: 0.29943243819414767, Test Loss: 0.5128889736291524\n"
     ]
    },
    {
     "name": "stderr",
     "output_type": "stream",
     "text": [
      "100%|██████████| 148/148 [00:57<00:00,  2.56it/s]\n",
      "100%|██████████| 37/37 [00:08<00:00,  4.16it/s]\n"
     ]
    },
    {
     "name": "stdout",
     "output_type": "stream",
     "text": [
      "Epoch 89, Train Loss: 0.3000929093844182, Test Loss: 0.4618149810546153\n"
     ]
    },
    {
     "name": "stderr",
     "output_type": "stream",
     "text": [
      "100%|██████████| 148/148 [00:57<00:00,  2.56it/s]\n",
      "100%|██████████| 37/37 [00:10<00:00,  3.67it/s]\n"
     ]
    },
    {
     "name": "stdout",
     "output_type": "stream",
     "text": [
      "Epoch 90, Train Loss: 0.29975340943280104, Test Loss: 0.459307709255734\n"
     ]
    },
    {
     "name": "stderr",
     "output_type": "stream",
     "text": [
      "100%|██████████| 148/148 [00:58<00:00,  2.54it/s]\n",
      "100%|██████████| 37/37 [00:08<00:00,  4.17it/s]\n"
     ]
    },
    {
     "name": "stdout",
     "output_type": "stream",
     "text": [
      "Epoch 91, Train Loss: 0.2995416379055461, Test Loss: 0.48871318230757843\n"
     ]
    },
    {
     "name": "stderr",
     "output_type": "stream",
     "text": [
      "100%|██████████| 148/148 [00:59<00:00,  2.50it/s]\n",
      "100%|██████████| 37/37 [00:09<00:00,  3.95it/s]\n"
     ]
    },
    {
     "name": "stdout",
     "output_type": "stream",
     "text": [
      "Epoch 92, Train Loss: 0.29893091708623076, Test Loss: 0.47043195729320114\n"
     ]
    },
    {
     "name": "stderr",
     "output_type": "stream",
     "text": [
      "100%|██████████| 148/148 [00:58<00:00,  2.51it/s]\n",
      "100%|██████████| 37/37 [00:08<00:00,  4.25it/s]\n"
     ]
    },
    {
     "name": "stdout",
     "output_type": "stream",
     "text": [
      "Epoch 93, Train Loss: 0.29960145599938726, Test Loss: 0.45416467113269343\n"
     ]
    },
    {
     "name": "stderr",
     "output_type": "stream",
     "text": [
      "100%|██████████| 148/148 [00:58<00:00,  2.55it/s]\n",
      "100%|██████████| 37/37 [00:08<00:00,  4.30it/s]\n"
     ]
    },
    {
     "name": "stdout",
     "output_type": "stream",
     "text": [
      "Epoch 94, Train Loss: 0.29833692876068324, Test Loss: 0.4653159923650123\n"
     ]
    },
    {
     "name": "stderr",
     "output_type": "stream",
     "text": [
      "100%|██████████| 148/148 [00:58<00:00,  2.53it/s]\n",
      "100%|██████████| 37/37 [00:08<00:00,  4.30it/s]\n"
     ]
    },
    {
     "name": "stdout",
     "output_type": "stream",
     "text": [
      "Epoch 95, Train Loss: 0.2979041397873614, Test Loss: 0.4808173054778898\n"
     ]
    },
    {
     "name": "stderr",
     "output_type": "stream",
     "text": [
      "100%|██████████| 148/148 [00:59<00:00,  2.50it/s]\n",
      "100%|██████████| 37/37 [00:10<00:00,  3.69it/s]\n"
     ]
    },
    {
     "name": "stdout",
     "output_type": "stream",
     "text": [
      "Epoch 96, Train Loss: 0.29919103867802266, Test Loss: 0.513072683199032\n"
     ]
    },
    {
     "name": "stderr",
     "output_type": "stream",
     "text": [
      "100%|██████████| 148/148 [00:57<00:00,  2.56it/s]\n",
      "100%|██████████| 37/37 [00:09<00:00,  3.74it/s]\n"
     ]
    },
    {
     "name": "stdout",
     "output_type": "stream",
     "text": [
      "Epoch 97, Train Loss: 0.2980677310276676, Test Loss: 0.4912010423234991\n"
     ]
    },
    {
     "name": "stderr",
     "output_type": "stream",
     "text": [
      "100%|██████████| 148/148 [00:57<00:00,  2.56it/s]\n",
      "100%|██████████| 37/37 [00:08<00:00,  4.26it/s]\n"
     ]
    },
    {
     "name": "stdout",
     "output_type": "stream",
     "text": [
      "Epoch 98, Train Loss: 0.2989578624633518, Test Loss: 0.5002560305434305\n"
     ]
    },
    {
     "name": "stderr",
     "output_type": "stream",
     "text": [
      "100%|██████████| 148/148 [00:59<00:00,  2.51it/s]\n",
      "100%|██████████| 37/37 [00:08<00:00,  4.20it/s]\n"
     ]
    },
    {
     "name": "stdout",
     "output_type": "stream",
     "text": [
      "Epoch 99, Train Loss: 0.29707872525260254, Test Loss: 0.4609560591948999\n"
     ]
    },
    {
     "name": "stderr",
     "output_type": "stream",
     "text": [
      "100%|██████████| 148/148 [00:58<00:00,  2.52it/s]\n",
      "100%|██████████| 37/37 [00:10<00:00,  3.69it/s]"
     ]
    },
    {
     "name": "stdout",
     "output_type": "stream",
     "text": [
      "Epoch 100, Train Loss: 0.29803672790325975, Test Loss: 0.5051049006146353\n",
      "Total Training Time: 112.19 minutes\n"
     ]
    },
    {
     "name": "stderr",
     "output_type": "stream",
     "text": [
      "\n"
     ]
    }
   ],
   "source": [
    "num_iterates = 100\n",
    "UNet_trained_2 = train(model_2, train_loader, test_loader, criterion, optimizer, num_iterates, device)"
   ]
  },
  {
   "cell_type": "code",
   "execution_count": 54,
   "metadata": {},
   "outputs": [
    {
     "data": {
      "image/png": "[encoded data removed]",
      "text/plain": [
       "<Figure size 1000x500 with 1 Axes>"
      ]
     },
     "metadata": {},
     "output_type": "display_data"
    }
   ],
   "source": [
    "plt.figure(figsize=(10, 5))\n",
    "plt.plot(range(num_iterates), UNet_trained_2[0], label='Train Loss', color='red')\n",
    "plt.plot(range(num_iterates), UNet_trained_2[1], label='Test Loss', color='blue')\n",
    "plt.xlabel('Epochs')\n",
    "plt.ylabel('Loss')\n",
    "plt.title('Train and Test Loss Over Epochs of 100 and lr = 1e-6')\n",
    "plt.legend()\n",
    "plt.grid(True)x\n",
    "plt.show()"
   ]
  },
  {
   "cell_type": "code",
   "execution_count": 16,
   "metadata": {
    "id": "dxbslWBwsH_t"
   },
   "outputs": [],
   "source": [
    "import time\n",
    "device = torch.device('cuda' if torch.cuda.is_available() else 'cpu')\n",
    "model_3 = UNet(n_class=1).to(device)\n",
    "\n",
    "lr = 1e-5\n",
    "optimizer = Adam(model_3.parameters(), lr=lr)\n",
    "\n",
    "criterion = nn.BCEWithLogitsLoss()\n",
    "\n",
    "def train(model, trainloader, testloader, criterion, optimizer, epochs, device):\n",
    "  best_test = np.inf\n",
    "  train_losses = []\n",
    "  test_losses = []\n",
    "\n",
    "  start_time = time.time()\n",
    "\n",
    "  for epoch in range(epochs):\n",
    "    epoch_loss = 0\n",
    "    test_loss = 0\n",
    "    epoch_start_time = time.time()\n",
    "\n",
    "\n",
    "    model.train()\n",
    "    for images, masks in tqdm(trainloader):\n",
    "\n",
    "      images, masks = images.to(device), masks.to(device)\n",
    "\n",
    "      optimizer.zero_grad()\n",
    "\n",
    "      outputs = model(images)\n",
    "\n",
    "      loss = criterion(outputs, masks)\n",
    "      loss.backward()\n",
    "      optimizer.step()\n",
    "      loss = loss.cpu()\n",
    "      epoch_loss += loss.item()\n",
    "\n",
    "    model.eval()\n",
    "    for image, masks in tqdm(testloader):\n",
    "      images, masks = images.to(device), masks.to(device)\n",
    "      outputs = model(images)\n",
    "      loss = criterion(outputs, masks)\n",
    "      loss = loss.cpu()\n",
    "      test_loss += loss.item()\n",
    "\n",
    "      \n",
    "    epoch_train_loss = epoch_loss / len(trainloader)\n",
    "    epoch_test_loss = test_loss / len(testloader)\n",
    "\n",
    "    train_losses.append(epoch_train_loss)\n",
    "    test_losses.append(epoch_test_loss)\n",
    "\n",
    "    if test_loss/len(testloader) < best_test:\n",
    "      best_test = test_loss/len(testloader)\n",
    "      lr_str = str(lr)\n",
    "      tile_size_str = str(tile_size)\n",
    "      torch.save(model.state_dict(), 'unet_' + lr_str + \"_\" + tile_size_str + '_' + str(epochs) + '.pth')\n",
    "\n",
    "    epoch_duration = time.time() - epoch_start_time\n",
    "    print(f'Epoch {epoch+1}, Train Loss: {epoch_loss/len(trainloader)}, Test Loss: {test_loss/len(testloader)}')\n",
    "\n",
    "  total_duration = time.time() - start_time\n",
    "  total_duration_minutes = total_duration / 60\n",
    "  print(f'Total Training Time: {total_duration_minutes:.2f} minutes')\n",
    "\n",
    "  return train_losses, test_losses\n",
    "\n",
    "    # plt.figure(figsize=(10, 5))\n",
    "    # plt.plot(range(1, epochs + 1), train_losses, label='Train Loss', color='red')\n",
    "    # plt.plot(range(1, epochs + 1), test_losses, label='Test Loss', color='blue')\n",
    "    # plt.xlabel('Epochs')\n",
    "    # plt.ylabel('Loss')\n",
    "    # plt.title('Train and Test Loss Over Epochs')\n",
    "    # plt.legend()\n",
    "    # plt.grid(True)\n",
    "    # plt.show()\n"
   ]
  },
  {
   "cell_type": "code",
   "execution_count": 17,
   "metadata": {},
   "outputs": [
    {
     "name": "stderr",
     "output_type": "stream",
     "text": [
      "100%|██████████| 148/148 [01:01<00:00,  2.40it/s]\n",
      "100%|██████████| 37/37 [00:09<00:00,  3.71it/s]\n"
     ]
    },
    {
     "name": "stdout",
     "output_type": "stream",
     "text": [
      "Epoch 1, Train Loss: 0.547983642868899, Test Loss: 0.42953010628352295\n"
     ]
    },
    {
     "name": "stderr",
     "output_type": "stream",
     "text": [
      "100%|██████████| 148/148 [00:58<00:00,  2.52it/s]\n",
      "100%|██████████| 37/37 [00:09<00:00,  3.72it/s]\n"
     ]
    },
    {
     "name": "stdout",
     "output_type": "stream",
     "text": [
      "Epoch 2, Train Loss: 0.3452540059649461, Test Loss: 0.40699848653496923\n"
     ]
    },
    {
     "name": "stderr",
     "output_type": "stream",
     "text": [
      "100%|██████████| 148/148 [00:59<00:00,  2.50it/s]\n",
      "100%|██████████| 37/37 [00:10<00:00,  3.39it/s]\n"
     ]
    },
    {
     "name": "stdout",
     "output_type": "stream",
     "text": [
      "Epoch 3, Train Loss: 0.34046807084735986, Test Loss: 0.4065241052492245\n"
     ]
    },
    {
     "name": "stderr",
     "output_type": "stream",
     "text": [
      "100%|██████████| 148/148 [00:59<00:00,  2.50it/s]\n",
      "100%|██████████| 37/37 [00:10<00:00,  3.67it/s]\n"
     ]
    },
    {
     "name": "stdout",
     "output_type": "stream",
     "text": [
      "Epoch 4, Train Loss: 0.33665262686239705, Test Loss: 0.42120917020617304\n"
     ]
    },
    {
     "name": "stderr",
     "output_type": "stream",
     "text": [
      "100%|██████████| 148/148 [00:59<00:00,  2.49it/s]\n",
      "100%|██████████| 37/37 [00:09<00:00,  3.95it/s]\n"
     ]
    },
    {
     "name": "stdout",
     "output_type": "stream",
     "text": [
      "Epoch 5, Train Loss: 0.3333574926128259, Test Loss: 0.42067394143826253\n"
     ]
    },
    {
     "name": "stderr",
     "output_type": "stream",
     "text": [
      "100%|██████████| 148/148 [00:59<00:00,  2.50it/s]\n",
      "100%|██████████| 37/37 [00:10<00:00,  3.69it/s]\n"
     ]
    },
    {
     "name": "stdout",
     "output_type": "stream",
     "text": [
      "Epoch 6, Train Loss: 0.3293650132679456, Test Loss: 0.4465127929642394\n"
     ]
    },
    {
     "name": "stderr",
     "output_type": "stream",
     "text": [
      "100%|██████████| 148/148 [00:59<00:00,  2.49it/s]\n",
      "100%|██████████| 37/37 [00:09<00:00,  3.97it/s]\n"
     ]
    },
    {
     "name": "stdout",
     "output_type": "stream",
     "text": [
      "Epoch 7, Train Loss: 0.3244733416752235, Test Loss: 0.4512636887060629\n"
     ]
    },
    {
     "name": "stderr",
     "output_type": "stream",
     "text": [
      "100%|██████████| 148/148 [00:59<00:00,  2.51it/s]\n",
      "100%|██████████| 37/37 [00:09<00:00,  3.86it/s]\n"
     ]
    },
    {
     "name": "stdout",
     "output_type": "stream",
     "text": [
      "Epoch 8, Train Loss: 0.3163417934163197, Test Loss: 0.46541116306105174\n"
     ]
    },
    {
     "name": "stderr",
     "output_type": "stream",
     "text": [
      "100%|██████████| 148/148 [00:59<00:00,  2.51it/s]\n",
      "100%|██████████| 37/37 [00:09<00:00,  3.72it/s]\n"
     ]
    },
    {
     "name": "stdout",
     "output_type": "stream",
     "text": [
      "Epoch 9, Train Loss: 0.30831037225151386, Test Loss: 0.5056805489836512\n"
     ]
    },
    {
     "name": "stderr",
     "output_type": "stream",
     "text": [
      "100%|██████████| 148/148 [00:58<00:00,  2.53it/s]\n",
      "100%|██████████| 37/37 [00:10<00:00,  3.60it/s]\n"
     ]
    },
    {
     "name": "stdout",
     "output_type": "stream",
     "text": [
      "Epoch 10, Train Loss: 0.3068010372336249, Test Loss: 0.4550059816321811\n"
     ]
    },
    {
     "name": "stderr",
     "output_type": "stream",
     "text": [
      "100%|██████████| 148/148 [00:59<00:00,  2.51it/s]\n",
      "100%|██████████| 37/37 [00:09<00:00,  3.72it/s]\n"
     ]
    },
    {
     "name": "stdout",
     "output_type": "stream",
     "text": [
      "Epoch 11, Train Loss: 0.3018187705326725, Test Loss: 0.49375631559539485\n"
     ]
    },
    {
     "name": "stderr",
     "output_type": "stream",
     "text": [
      "100%|██████████| 148/148 [00:58<00:00,  2.51it/s]\n",
      "100%|██████████| 37/37 [00:09<00:00,  3.72it/s]\n"
     ]
    },
    {
     "name": "stdout",
     "output_type": "stream",
     "text": [
      "Epoch 12, Train Loss: 0.3025002982467413, Test Loss: 0.4646848057572906\n"
     ]
    },
    {
     "name": "stderr",
     "output_type": "stream",
     "text": [
      "100%|██████████| 148/148 [00:59<00:00,  2.51it/s]\n",
      "100%|██████████| 37/37 [00:09<00:00,  3.95it/s]\n"
     ]
    },
    {
     "name": "stdout",
     "output_type": "stream",
     "text": [
      "Epoch 13, Train Loss: 0.2989389259569548, Test Loss: 0.47294220489424627\n"
     ]
    },
    {
     "name": "stderr",
     "output_type": "stream",
     "text": [
      "100%|██████████| 148/148 [00:58<00:00,  2.52it/s]\n",
      "100%|██████████| 37/37 [00:10<00:00,  3.70it/s]\n"
     ]
    },
    {
     "name": "stdout",
     "output_type": "stream",
     "text": [
      "Epoch 14, Train Loss: 0.29986215357643525, Test Loss: 0.4929710276223518\n"
     ]
    },
    {
     "name": "stderr",
     "output_type": "stream",
     "text": [
      "100%|██████████| 148/148 [00:59<00:00,  2.50it/s]\n",
      "100%|██████████| 37/37 [00:09<00:00,  3.78it/s]\n"
     ]
    },
    {
     "name": "stdout",
     "output_type": "stream",
     "text": [
      "Epoch 15, Train Loss: 0.2980587141638672, Test Loss: 0.5117261333240045\n"
     ]
    },
    {
     "name": "stderr",
     "output_type": "stream",
     "text": [
      "100%|██████████| 148/148 [00:59<00:00,  2.50it/s]\n",
      "100%|██████████| 37/37 [00:11<00:00,  3.30it/s]\n"
     ]
    },
    {
     "name": "stdout",
     "output_type": "stream",
     "text": [
      "Epoch 16, Train Loss: 0.2977163146275121, Test Loss: 0.4467255533547015\n"
     ]
    },
    {
     "name": "stderr",
     "output_type": "stream",
     "text": [
      "100%|██████████| 148/148 [00:59<00:00,  2.51it/s]\n",
      "100%|██████████| 37/37 [00:10<00:00,  3.68it/s]\n"
     ]
    },
    {
     "name": "stdout",
     "output_type": "stream",
     "text": [
      "Epoch 17, Train Loss: 0.2939319814731543, Test Loss: 0.5193969407999838\n"
     ]
    },
    {
     "name": "stderr",
     "output_type": "stream",
     "text": [
      "100%|██████████| 148/148 [00:59<00:00,  2.47it/s]\n",
      "100%|██████████| 37/37 [00:09<00:00,  3.71it/s]\n"
     ]
    },
    {
     "name": "stdout",
     "output_type": "stream",
     "text": [
      "Epoch 18, Train Loss: 0.2960562263489575, Test Loss: 0.5181089534952834\n"
     ]
    },
    {
     "name": "stderr",
     "output_type": "stream",
     "text": [
      "100%|██████████| 148/148 [00:59<00:00,  2.50it/s]\n",
      "100%|██████████| 37/37 [00:11<00:00,  3.35it/s]\n"
     ]
    },
    {
     "name": "stdout",
     "output_type": "stream",
     "text": [
      "Epoch 19, Train Loss: 0.29490976654798595, Test Loss: 0.5023051814453022\n"
     ]
    },
    {
     "name": "stderr",
     "output_type": "stream",
     "text": [
      "100%|██████████| 148/148 [00:59<00:00,  2.49it/s]\n",
      "100%|██████████| 37/37 [00:09<00:00,  3.74it/s]\n"
     ]
    },
    {
     "name": "stdout",
     "output_type": "stream",
     "text": [
      "Epoch 20, Train Loss: 0.29373044314215313, Test Loss: 0.475541217907055\n"
     ]
    },
    {
     "name": "stderr",
     "output_type": "stream",
     "text": [
      "100%|██████████| 148/148 [00:59<00:00,  2.49it/s]\n",
      "100%|██████████| 37/37 [00:09<00:00,  3.70it/s]\n"
     ]
    },
    {
     "name": "stdout",
     "output_type": "stream",
     "text": [
      "Epoch 21, Train Loss: 0.2947065518111796, Test Loss: 0.450498286131266\n"
     ]
    },
    {
     "name": "stderr",
     "output_type": "stream",
     "text": [
      "100%|██████████| 148/148 [00:59<00:00,  2.50it/s]\n",
      "100%|██████████| 37/37 [00:09<00:00,  3.77it/s]\n"
     ]
    },
    {
     "name": "stdout",
     "output_type": "stream",
     "text": [
      "Epoch 22, Train Loss: 0.293619599948461, Test Loss: 0.5648590161188228\n"
     ]
    },
    {
     "name": "stderr",
     "output_type": "stream",
     "text": [
      "100%|██████████| 148/148 [00:59<00:00,  2.49it/s]\n",
      "100%|██████████| 37/37 [00:10<00:00,  3.70it/s]\n"
     ]
    },
    {
     "name": "stdout",
     "output_type": "stream",
     "text": [
      "Epoch 23, Train Loss: 0.294003228266799, Test Loss: 0.48336725218875987\n"
     ]
    },
    {
     "name": "stderr",
     "output_type": "stream",
     "text": [
      "100%|██████████| 148/148 [00:59<00:00,  2.50it/s]\n",
      "100%|██████████| 37/37 [00:10<00:00,  3.70it/s]\n"
     ]
    },
    {
     "name": "stdout",
     "output_type": "stream",
     "text": [
      "Epoch 24, Train Loss: 0.291913607333963, Test Loss: 0.45947659660030055\n"
     ]
    },
    {
     "name": "stderr",
     "output_type": "stream",
     "text": [
      "100%|██████████| 148/148 [00:59<00:00,  2.51it/s]\n",
      "100%|██████████| 37/37 [00:09<00:00,  3.74it/s]\n"
     ]
    },
    {
     "name": "stdout",
     "output_type": "stream",
     "text": [
      "Epoch 25, Train Loss: 0.29361505562288537, Test Loss: 0.49370388565836726\n"
     ]
    },
    {
     "name": "stderr",
     "output_type": "stream",
     "text": [
      "100%|██████████| 148/148 [00:58<00:00,  2.51it/s]\n",
      "100%|██████████| 37/37 [00:09<00:00,  3.76it/s]\n"
     ]
    },
    {
     "name": "stdout",
     "output_type": "stream",
     "text": [
      "Epoch 26, Train Loss: 0.29464705570324046, Test Loss: 0.47813182263760956\n"
     ]
    },
    {
     "name": "stderr",
     "output_type": "stream",
     "text": [
      "100%|██████████| 148/148 [00:59<00:00,  2.50it/s]\n",
      "100%|██████████| 37/37 [00:10<00:00,  3.70it/s]\n"
     ]
    },
    {
     "name": "stdout",
     "output_type": "stream",
     "text": [
      "Epoch 27, Train Loss: 0.2932437607968176, Test Loss: 0.5215284989492314\n"
     ]
    },
    {
     "name": "stderr",
     "output_type": "stream",
     "text": [
      "100%|██████████| 148/148 [00:59<00:00,  2.50it/s]\n",
      "100%|██████████| 37/37 [00:09<00:00,  3.80it/s]\n"
     ]
    },
    {
     "name": "stdout",
     "output_type": "stream",
     "text": [
      "Epoch 28, Train Loss: 0.2909352667126301, Test Loss: 0.4677121592937289\n"
     ]
    },
    {
     "name": "stderr",
     "output_type": "stream",
     "text": [
      "100%|██████████| 148/148 [00:59<00:00,  2.50it/s]\n",
      "100%|██████████| 37/37 [00:09<00:00,  4.04it/s]\n"
     ]
    },
    {
     "name": "stdout",
     "output_type": "stream",
     "text": [
      "Epoch 29, Train Loss: 0.29131554575586643, Test Loss: 0.4757354642088349\n"
     ]
    },
    {
     "name": "stderr",
     "output_type": "stream",
     "text": [
      "100%|██████████| 148/148 [00:58<00:00,  2.51it/s]\n",
      "100%|██████████| 37/37 [00:09<00:00,  3.79it/s]\n"
     ]
    },
    {
     "name": "stdout",
     "output_type": "stream",
     "text": [
      "Epoch 30, Train Loss: 0.2926106171531452, Test Loss: 0.5580130146967398\n"
     ]
    },
    {
     "name": "stderr",
     "output_type": "stream",
     "text": [
      "100%|██████████| 148/148 [00:59<00:00,  2.51it/s]\n",
      "100%|██████████| 37/37 [00:10<00:00,  3.69it/s]\n"
     ]
    },
    {
     "name": "stdout",
     "output_type": "stream",
     "text": [
      "Epoch 31, Train Loss: 0.2899392456621737, Test Loss: 0.513859352549991\n"
     ]
    },
    {
     "name": "stderr",
     "output_type": "stream",
     "text": [
      "100%|██████████| 148/148 [00:59<00:00,  2.47it/s]\n",
      "100%|██████████| 37/37 [00:09<00:00,  3.79it/s]\n"
     ]
    },
    {
     "name": "stdout",
     "output_type": "stream",
     "text": [
      "Epoch 32, Train Loss: 0.2899347081075649, Test Loss: 0.5851014127602449\n"
     ]
    },
    {
     "name": "stderr",
     "output_type": "stream",
     "text": [
      "100%|██████████| 148/148 [00:58<00:00,  2.53it/s]\n",
      "100%|██████████| 37/37 [00:09<00:00,  3.79it/s]\n"
     ]
    },
    {
     "name": "stdout",
     "output_type": "stream",
     "text": [
      "Epoch 33, Train Loss: 0.29139525123645327, Test Loss: 0.49762707062669703\n"
     ]
    },
    {
     "name": "stderr",
     "output_type": "stream",
     "text": [
      "100%|██████████| 148/148 [00:59<00:00,  2.50it/s]\n",
      "100%|██████████| 37/37 [00:09<00:00,  3.75it/s]\n"
     ]
    },
    {
     "name": "stdout",
     "output_type": "stream",
     "text": [
      "Epoch 34, Train Loss: 0.2873585237743887, Test Loss: 0.5135660284274334\n"
     ]
    },
    {
     "name": "stderr",
     "output_type": "stream",
     "text": [
      "100%|██████████| 148/148 [00:58<00:00,  2.51it/s]\n",
      "100%|██████████| 37/37 [00:08<00:00,  4.14it/s]\n"
     ]
    },
    {
     "name": "stdout",
     "output_type": "stream",
     "text": [
      "Epoch 35, Train Loss: 0.29309031900924604, Test Loss: 0.5168250452827763\n"
     ]
    },
    {
     "name": "stderr",
     "output_type": "stream",
     "text": [
      "100%|██████████| 148/148 [00:59<00:00,  2.50it/s]\n",
      "100%|██████████| 37/37 [00:09<00:00,  3.72it/s]\n"
     ]
    },
    {
     "name": "stdout",
     "output_type": "stream",
     "text": [
      "Epoch 36, Train Loss: 0.2884169936784216, Test Loss: 0.4762660031383102\n"
     ]
    },
    {
     "name": "stderr",
     "output_type": "stream",
     "text": [
      "100%|██████████| 148/148 [00:59<00:00,  2.51it/s]\n",
      "100%|██████████| 37/37 [00:10<00:00,  3.37it/s]\n"
     ]
    },
    {
     "name": "stdout",
     "output_type": "stream",
     "text": [
      "Epoch 37, Train Loss: 0.2872194618842489, Test Loss: 0.5003032656134786\n"
     ]
    },
    {
     "name": "stderr",
     "output_type": "stream",
     "text": [
      "100%|██████████| 148/148 [00:59<00:00,  2.50it/s]\n",
      "100%|██████████| 37/37 [00:11<00:00,  3.36it/s]\n"
     ]
    },
    {
     "name": "stdout",
     "output_type": "stream",
     "text": [
      "Epoch 38, Train Loss: 0.28906096236125844, Test Loss: 0.5475761580306131\n"
     ]
    },
    {
     "name": "stderr",
     "output_type": "stream",
     "text": [
      "100%|██████████| 148/148 [00:59<00:00,  2.51it/s]\n",
      "100%|██████████| 37/37 [00:09<00:00,  3.84it/s]\n"
     ]
    },
    {
     "name": "stdout",
     "output_type": "stream",
     "text": [
      "Epoch 39, Train Loss: 0.2879827935752031, Test Loss: 0.5359719649359986\n"
     ]
    },
    {
     "name": "stderr",
     "output_type": "stream",
     "text": [
      "100%|██████████| 148/148 [00:58<00:00,  2.53it/s]\n",
      "100%|██████████| 37/37 [00:09<00:00,  3.72it/s]\n"
     ]
    },
    {
     "name": "stdout",
     "output_type": "stream",
     "text": [
      "Epoch 40, Train Loss: 0.2884108020445785, Test Loss: 0.4918832400360623\n"
     ]
    },
    {
     "name": "stderr",
     "output_type": "stream",
     "text": [
      "100%|██████████| 148/148 [00:58<00:00,  2.51it/s]\n",
      "100%|██████████| 37/37 [00:09<00:00,  4.03it/s]\n"
     ]
    },
    {
     "name": "stdout",
     "output_type": "stream",
     "text": [
      "Epoch 41, Train Loss: 0.288471548994248, Test Loss: 0.5193865621412123\n"
     ]
    },
    {
     "name": "stderr",
     "output_type": "stream",
     "text": [
      "100%|██████████| 148/148 [01:00<00:00,  2.46it/s]\n",
      "100%|██████████| 37/37 [00:11<00:00,  3.33it/s]\n"
     ]
    },
    {
     "name": "stdout",
     "output_type": "stream",
     "text": [
      "Epoch 42, Train Loss: 0.28720017170181145, Test Loss: 0.4845418249433105\n"
     ]
    },
    {
     "name": "stderr",
     "output_type": "stream",
     "text": [
      "100%|██████████| 148/148 [00:59<00:00,  2.51it/s]\n",
      "100%|██████████| 37/37 [00:10<00:00,  3.44it/s]\n"
     ]
    },
    {
     "name": "stdout",
     "output_type": "stream",
     "text": [
      "Epoch 43, Train Loss: 0.288199975985933, Test Loss: 0.512116001264469\n"
     ]
    },
    {
     "name": "stderr",
     "output_type": "stream",
     "text": [
      "100%|██████████| 148/148 [00:59<00:00,  2.47it/s]\n",
      "100%|██████████| 37/37 [00:09<00:00,  3.73it/s]\n"
     ]
    },
    {
     "name": "stdout",
     "output_type": "stream",
     "text": [
      "Epoch 44, Train Loss: 0.2873381558503654, Test Loss: 0.5172582727831763\n"
     ]
    },
    {
     "name": "stderr",
     "output_type": "stream",
     "text": [
      "100%|██████████| 148/148 [00:59<00:00,  2.49it/s]\n",
      "100%|██████████| 37/37 [00:09<00:00,  3.72it/s]\n"
     ]
    },
    {
     "name": "stdout",
     "output_type": "stream",
     "text": [
      "Epoch 45, Train Loss: 0.28532018301052015, Test Loss: 0.5760821275211669\n"
     ]
    },
    {
     "name": "stderr",
     "output_type": "stream",
     "text": [
      "100%|██████████| 148/148 [00:59<00:00,  2.50it/s]\n",
      "100%|██████████| 37/37 [00:10<00:00,  3.61it/s]\n"
     ]
    },
    {
     "name": "stdout",
     "output_type": "stream",
     "text": [
      "Epoch 46, Train Loss: 0.2862585816230323, Test Loss: 0.5070874795720384\n"
     ]
    },
    {
     "name": "stderr",
     "output_type": "stream",
     "text": [
      "100%|██████████| 148/148 [01:00<00:00,  2.46it/s]\n",
      "100%|██████████| 37/37 [00:10<00:00,  3.65it/s]\n"
     ]
    },
    {
     "name": "stdout",
     "output_type": "stream",
     "text": [
      "Epoch 47, Train Loss: 0.28737230933699254, Test Loss: 0.49997269301801117\n"
     ]
    },
    {
     "name": "stderr",
     "output_type": "stream",
     "text": [
      "100%|██████████| 148/148 [00:59<00:00,  2.48it/s]\n",
      "100%|██████████| 37/37 [00:09<00:00,  3.71it/s]\n"
     ]
    },
    {
     "name": "stdout",
     "output_type": "stream",
     "text": [
      "Epoch 48, Train Loss: 0.2850856106929682, Test Loss: 0.4936016451668095\n"
     ]
    },
    {
     "name": "stderr",
     "output_type": "stream",
     "text": [
      "100%|██████████| 148/148 [01:00<00:00,  2.46it/s]\n",
      "100%|██████████| 37/37 [00:09<00:00,  3.77it/s]\n"
     ]
    },
    {
     "name": "stdout",
     "output_type": "stream",
     "text": [
      "Epoch 49, Train Loss: 0.2879077623522765, Test Loss: 0.49910184016098846\n"
     ]
    },
    {
     "name": "stderr",
     "output_type": "stream",
     "text": [
      "100%|██████████| 148/148 [00:58<00:00,  2.51it/s]\n",
      "100%|██████████| 37/37 [00:09<00:00,  3.80it/s]"
     ]
    },
    {
     "name": "stdout",
     "output_type": "stream",
     "text": [
      "Epoch 50, Train Loss: 0.28712136097051, Test Loss: 0.49370968261280573\n",
      "Total Training Time: 57.74 minutes\n"
     ]
    },
    {
     "name": "stderr",
     "output_type": "stream",
     "text": [
      "\n"
     ]
    }
   ],
   "source": [
    "num_iterates = 50\n",
    "UNet_trained_3 = train(model_3, train_loader, test_loader, criterion, optimizer, num_iterates, device)"
   ]
  },
  {
   "cell_type": "code",
   "execution_count": 18,
   "metadata": {},
   "outputs": [
    {
     "data": {
      "image/png": "[encoded data removed]",
      "text/plain": [
       "<Figure size 1000x500 with 1 Axes>"
      ]
     },
     "metadata": {},
     "output_type": "display_data"
    }
   ],
   "source": [
    "plt.figure(figsize=(10, 5))\n",
    "plt.plot(range(num_iterates), UNet_trained_3[0], label='Train Loss', color='red')\n",
    "plt.plot(range(num_iterates), UNet_trained_3[1], label='Test Loss', color='blue')\n",
    "plt.xlabel('Epochs')\n",
    "plt.ylabel('Loss')\n",
    "plt.title('Train and Test Loss Over Epochs of 50 and lr = 1e-5')\n",
    "plt.legend()\n",
    "plt.grid(True)\n",
    "plt.show()"
   ]
  },
  {
   "cell_type": "code",
   "execution_count": 19,
   "metadata": {},
   "outputs": [],
   "source": [
    "import time\n",
    "device = torch.device('cuda' if torch.cuda.is_available() else 'cpu')\n",
    "model_4 = UNet(n_class=1).to(device)\n",
    "\n",
    "lr = 1e-2\n",
    "optimizer = Adam(model_4.parameters(), lr=lr)\n",
    "\n",
    "criterion = nn.BCEWithLogitsLoss()\n",
    "\n",
    "def train(model, trainloader, testloader, criterion, optimizer, epochs, device):\n",
    "  best_test = np.inf\n",
    "  train_losses = []\n",
    "  test_losses = []\n",
    "\n",
    "  start_time = time.time()\n",
    "\n",
    "  for epoch in range(epochs):\n",
    "    epoch_loss = 0\n",
    "    test_loss = 0\n",
    "    epoch_start_time = time.time()\n",
    "\n",
    "\n",
    "    model.train()\n",
    "    for images, masks in tqdm(trainloader):\n",
    "\n",
    "      images, masks = images.to(device), masks.to(device)\n",
    "\n",
    "      optimizer.zero_grad()\n",
    "\n",
    "      outputs = model(images)\n",
    "\n",
    "      loss = criterion(outputs, masks)\n",
    "      loss.backward()\n",
    "      optimizer.step()\n",
    "      loss = loss.cpu()\n",
    "      epoch_loss += loss.item()\n",
    "\n",
    "    model.eval()\n",
    "    for image, masks in tqdm(testloader):\n",
    "      images, masks = images.to(device), masks.to(device)\n",
    "      outputs = model(images)\n",
    "      loss = criterion(outputs, masks)\n",
    "      loss = loss.cpu()\n",
    "      test_loss += loss.item()\n",
    "\n",
    "      \n",
    "    epoch_train_loss = epoch_loss / len(trainloader)\n",
    "    epoch_test_loss = test_loss / len(testloader)\n",
    "\n",
    "    train_losses.append(epoch_train_loss)\n",
    "    test_losses.append(epoch_test_loss)\n",
    "\n",
    "    if test_loss/len(testloader) < best_test:\n",
    "      best_test = test_loss/len(testloader)\n",
    "      lr_str = str(lr)\n",
    "      tile_size_str = str(tile_size)\n",
    "      torch.save(model.state_dict(), 'unet_' + lr_str + \"_\" + tile_size_str + '_' + str(epochs) + '.pth')\n",
    "\n",
    "    epoch_duration = time.time() - epoch_start_time\n",
    "    print(f'Epoch {epoch+1}, Train Loss: {epoch_loss/len(trainloader)}, Test Loss: {test_loss/len(testloader)}')\n",
    "\n",
    "  total_duration = time.time() - start_time\n",
    "  total_duration_minutes = total_duration / 60\n",
    "  print(f'Total Training Time: {total_duration_minutes:.2f} minutes')\n",
    "\n",
    "  return train_losses, test_losses\n",
    "\n",
    "    # plt.figure(figsize=(10, 5))\n",
    "    # plt.plot(range(1, epochs + 1), train_losses, label='Train Loss', color='red')\n",
    "    # plt.plot(range(1, epochs + 1), test_losses, label='Test Loss', color='blue')\n",
    "    # plt.xlabel('Epochs')\n",
    "    # plt.ylabel('Loss')\n",
    "    # plt.title('Train and Test Loss Over Epochs')\n",
    "    # plt.legend()\n",
    "    # plt.grid(True)\n",
    "    # plt.show()\n"
   ]
  },
  {
   "cell_type": "code",
   "execution_count": 20,
   "metadata": {},
   "outputs": [
    {
     "name": "stderr",
     "output_type": "stream",
     "text": [
      "100%|██████████| 148/148 [00:57<00:00,  2.60it/s]\n",
      "100%|██████████| 37/37 [00:09<00:00,  3.78it/s]\n"
     ]
    },
    {
     "name": "stdout",
     "output_type": "stream",
     "text": [
      "Epoch 1, Train Loss: 460764.5248741599, Test Loss: 0.4073308770721023\n"
     ]
    },
    {
     "name": "stderr",
     "output_type": "stream",
     "text": [
      "100%|██████████| 148/148 [00:56<00:00,  2.62it/s]\n",
      "100%|██████████| 37/37 [00:10<00:00,  3.50it/s]\n"
     ]
    },
    {
     "name": "stdout",
     "output_type": "stream",
     "text": [
      "Epoch 2, Train Loss: 0.3540187277705283, Test Loss: 0.43080492035762685\n"
     ]
    },
    {
     "name": "stderr",
     "output_type": "stream",
     "text": [
      "100%|██████████| 148/148 [00:56<00:00,  2.61it/s]\n",
      "100%|██████████| 37/37 [00:10<00:00,  3.62it/s]\n"
     ]
    },
    {
     "name": "stdout",
     "output_type": "stream",
     "text": [
      "Epoch 3, Train Loss: 0.34808767350340214, Test Loss: 0.45600171065008316\n"
     ]
    },
    {
     "name": "stderr",
     "output_type": "stream",
     "text": [
      "100%|██████████| 148/148 [00:56<00:00,  2.62it/s]\n",
      "100%|██████████| 37/37 [00:09<00:00,  3.73it/s]\n"
     ]
    },
    {
     "name": "stdout",
     "output_type": "stream",
     "text": [
      "Epoch 4, Train Loss: 0.34756231569760554, Test Loss: 0.38807855224287185\n"
     ]
    },
    {
     "name": "stderr",
     "output_type": "stream",
     "text": [
      "100%|██████████| 148/148 [00:56<00:00,  2.62it/s]\n",
      "100%|██████████| 37/37 [00:09<00:00,  3.72it/s]\n"
     ]
    },
    {
     "name": "stdout",
     "output_type": "stream",
     "text": [
      "Epoch 5, Train Loss: 0.34625342095623146, Test Loss: 0.39261889216062185\n"
     ]
    },
    {
     "name": "stderr",
     "output_type": "stream",
     "text": [
      "100%|██████████| 148/148 [00:56<00:00,  2.63it/s]\n",
      "100%|██████████| 37/37 [00:10<00:00,  3.41it/s]\n"
     ]
    },
    {
     "name": "stdout",
     "output_type": "stream",
     "text": [
      "Epoch 6, Train Loss: 0.3460933149263665, Test Loss: 0.41363410933597666\n"
     ]
    },
    {
     "name": "stderr",
     "output_type": "stream",
     "text": [
      "100%|██████████| 148/148 [00:56<00:00,  2.62it/s]\n",
      "100%|██████████| 37/37 [00:10<00:00,  3.40it/s]\n"
     ]
    },
    {
     "name": "stdout",
     "output_type": "stream",
     "text": [
      "Epoch 7, Train Loss: 0.3454018693316627, Test Loss: 0.45714145556494995\n"
     ]
    },
    {
     "name": "stderr",
     "output_type": "stream",
     "text": [
      "100%|██████████| 148/148 [00:56<00:00,  2.60it/s]\n",
      "100%|██████████| 37/37 [00:10<00:00,  3.56it/s]\n"
     ]
    },
    {
     "name": "stdout",
     "output_type": "stream",
     "text": [
      "Epoch 8, Train Loss: 0.34148461099814725, Test Loss: 0.4482296818011516\n"
     ]
    },
    {
     "name": "stderr",
     "output_type": "stream",
     "text": [
      "100%|██████████| 148/148 [00:57<00:00,  2.58it/s]\n",
      "100%|██████████| 37/37 [00:10<00:00,  3.63it/s]\n"
     ]
    },
    {
     "name": "stdout",
     "output_type": "stream",
     "text": [
      "Epoch 9, Train Loss: 0.34201771635058764, Test Loss: 0.4165494671544513\n"
     ]
    },
    {
     "name": "stderr",
     "output_type": "stream",
     "text": [
      "100%|██████████| 148/148 [00:56<00:00,  2.60it/s]\n",
      "100%|██████████| 37/37 [00:09<00:00,  3.79it/s]\n"
     ]
    },
    {
     "name": "stdout",
     "output_type": "stream",
     "text": [
      "Epoch 10, Train Loss: 0.3423057899281785, Test Loss: 0.40627259740958344\n"
     ]
    },
    {
     "name": "stderr",
     "output_type": "stream",
     "text": [
      "100%|██████████| 148/148 [00:57<00:00,  2.59it/s]\n",
      "100%|██████████| 37/37 [00:09<00:00,  4.07it/s]\n"
     ]
    },
    {
     "name": "stdout",
     "output_type": "stream",
     "text": [
      "Epoch 11, Train Loss: 0.34249682024725386, Test Loss: 0.4158252618602804\n"
     ]
    },
    {
     "name": "stderr",
     "output_type": "stream",
     "text": [
      "100%|██████████| 148/148 [00:56<00:00,  2.62it/s]\n",
      "100%|██████████| 37/37 [00:10<00:00,  3.59it/s]\n"
     ]
    },
    {
     "name": "stdout",
     "output_type": "stream",
     "text": [
      "Epoch 12, Train Loss: 0.3439063028608625, Test Loss: 0.42520935470993454\n"
     ]
    },
    {
     "name": "stderr",
     "output_type": "stream",
     "text": [
      "100%|██████████| 148/148 [00:56<00:00,  2.63it/s]\n",
      "100%|██████████| 37/37 [00:09<00:00,  3.76it/s]\n"
     ]
    },
    {
     "name": "stdout",
     "output_type": "stream",
     "text": [
      "Epoch 13, Train Loss: 0.3420144329602654, Test Loss: 0.4453226980325338\n"
     ]
    },
    {
     "name": "stderr",
     "output_type": "stream",
     "text": [
      "100%|██████████| 148/148 [00:57<00:00,  2.58it/s]\n",
      "100%|██████████| 37/37 [00:09<00:00,  4.07it/s]\n"
     ]
    },
    {
     "name": "stdout",
     "output_type": "stream",
     "text": [
      "Epoch 14, Train Loss: 0.34123916964273193, Test Loss: 0.44837516425429164\n"
     ]
    },
    {
     "name": "stderr",
     "output_type": "stream",
     "text": [
      "100%|██████████| 148/148 [00:57<00:00,  2.59it/s]\n",
      "100%|██████████| 37/37 [00:09<00:00,  3.91it/s]\n"
     ]
    },
    {
     "name": "stdout",
     "output_type": "stream",
     "text": [
      "Epoch 15, Train Loss: 0.3396147276602081, Test Loss: 0.4152242758789578\n"
     ]
    },
    {
     "name": "stderr",
     "output_type": "stream",
     "text": [
      "100%|██████████| 148/148 [00:56<00:00,  2.63it/s]\n",
      "100%|██████████| 37/37 [00:09<00:00,  3.85it/s]\n"
     ]
    },
    {
     "name": "stdout",
     "output_type": "stream",
     "text": [
      "Epoch 16, Train Loss: 0.34089015942771694, Test Loss: 0.4241423155810382\n"
     ]
    },
    {
     "name": "stderr",
     "output_type": "stream",
     "text": [
      "100%|██████████| 148/148 [00:56<00:00,  2.62it/s]\n",
      "100%|██████████| 37/37 [00:10<00:00,  3.40it/s]\n"
     ]
    },
    {
     "name": "stdout",
     "output_type": "stream",
     "text": [
      "Epoch 17, Train Loss: 0.3442068309397311, Test Loss: 0.5061336695342451\n"
     ]
    },
    {
     "name": "stderr",
     "output_type": "stream",
     "text": [
      "100%|██████████| 148/148 [00:56<00:00,  2.61it/s]\n",
      "100%|██████████| 37/37 [00:09<00:00,  3.78it/s]\n"
     ]
    },
    {
     "name": "stdout",
     "output_type": "stream",
     "text": [
      "Epoch 18, Train Loss: 0.34261094819049576, Test Loss: 0.418680820513416\n"
     ]
    },
    {
     "name": "stderr",
     "output_type": "stream",
     "text": [
      "100%|██████████| 148/148 [00:56<00:00,  2.64it/s]\n",
      "100%|██████████| 37/37 [00:09<00:00,  3.82it/s]\n"
     ]
    },
    {
     "name": "stdout",
     "output_type": "stream",
     "text": [
      "Epoch 19, Train Loss: 0.33942292036639676, Test Loss: 0.42768537957926056\n"
     ]
    },
    {
     "name": "stderr",
     "output_type": "stream",
     "text": [
      "100%|██████████| 148/148 [00:56<00:00,  2.61it/s]\n",
      "100%|██████████| 37/37 [00:09<00:00,  4.07it/s]\n"
     ]
    },
    {
     "name": "stdout",
     "output_type": "stream",
     "text": [
      "Epoch 20, Train Loss: 0.33869698955803307, Test Loss: 0.42680785221022527\n"
     ]
    },
    {
     "name": "stderr",
     "output_type": "stream",
     "text": [
      "100%|██████████| 148/148 [00:55<00:00,  2.64it/s]\n",
      "100%|██████████| 37/37 [00:09<00:00,  3.86it/s]\n"
     ]
    },
    {
     "name": "stdout",
     "output_type": "stream",
     "text": [
      "Epoch 21, Train Loss: 0.34002780571982666, Test Loss: 0.42563900230704127\n"
     ]
    },
    {
     "name": "stderr",
     "output_type": "stream",
     "text": [
      "100%|██████████| 148/148 [00:56<00:00,  2.61it/s]\n",
      "100%|██████████| 37/37 [00:09<00:00,  3.73it/s]\n"
     ]
    },
    {
     "name": "stdout",
     "output_type": "stream",
     "text": [
      "Epoch 22, Train Loss: 0.3393667523019217, Test Loss: 0.4207186988882116\n"
     ]
    },
    {
     "name": "stderr",
     "output_type": "stream",
     "text": [
      "100%|██████████| 148/148 [00:56<00:00,  2.63it/s]\n",
      "100%|██████████| 37/37 [00:09<00:00,  3.81it/s]\n"
     ]
    },
    {
     "name": "stdout",
     "output_type": "stream",
     "text": [
      "Epoch 23, Train Loss: 0.3412581066022048, Test Loss: 0.44557563155084046\n"
     ]
    },
    {
     "name": "stderr",
     "output_type": "stream",
     "text": [
      "100%|██████████| 148/148 [00:55<00:00,  2.65it/s]\n",
      "100%|██████████| 37/37 [00:09<00:00,  3.72it/s]\n"
     ]
    },
    {
     "name": "stdout",
     "output_type": "stream",
     "text": [
      "Epoch 24, Train Loss: 0.34111720580305604, Test Loss: 0.41938240463669235\n"
     ]
    },
    {
     "name": "stderr",
     "output_type": "stream",
     "text": [
      "100%|██████████| 148/148 [00:56<00:00,  2.61it/s]\n",
      "100%|██████████| 37/37 [00:10<00:00,  3.63it/s]\n"
     ]
    },
    {
     "name": "stdout",
     "output_type": "stream",
     "text": [
      "Epoch 25, Train Loss: 0.34059632715542576, Test Loss: 0.424061525512386\n"
     ]
    },
    {
     "name": "stderr",
     "output_type": "stream",
     "text": [
      "100%|██████████| 148/148 [00:56<00:00,  2.62it/s]\n",
      "100%|██████████| 37/37 [00:10<00:00,  3.43it/s]\n"
     ]
    },
    {
     "name": "stdout",
     "output_type": "stream",
     "text": [
      "Epoch 26, Train Loss: 0.34173639249559995, Test Loss: 0.4766734236398259\n"
     ]
    },
    {
     "name": "stderr",
     "output_type": "stream",
     "text": [
      "100%|██████████| 148/148 [00:56<00:00,  2.62it/s]\n",
      "100%|██████████| 37/37 [00:09<00:00,  3.83it/s]\n"
     ]
    },
    {
     "name": "stdout",
     "output_type": "stream",
     "text": [
      "Epoch 27, Train Loss: 0.3408874003468333, Test Loss: 0.42452761128142075\n"
     ]
    },
    {
     "name": "stderr",
     "output_type": "stream",
     "text": [
      "100%|██████████| 148/148 [00:56<00:00,  2.62it/s]\n",
      "100%|██████████| 37/37 [00:09<00:00,  3.71it/s]\n"
     ]
    },
    {
     "name": "stdout",
     "output_type": "stream",
     "text": [
      "Epoch 28, Train Loss: 0.3398930246664866, Test Loss: 0.49331954846511017\n"
     ]
    },
    {
     "name": "stderr",
     "output_type": "stream",
     "text": [
      "100%|██████████| 148/148 [00:56<00:00,  2.62it/s]\n",
      "100%|██████████| 37/37 [00:09<00:00,  3.87it/s]\n"
     ]
    },
    {
     "name": "stdout",
     "output_type": "stream",
     "text": [
      "Epoch 29, Train Loss: 0.3433912676834577, Test Loss: 0.4758160496885712\n"
     ]
    },
    {
     "name": "stderr",
     "output_type": "stream",
     "text": [
      "100%|██████████| 148/148 [00:56<00:00,  2.60it/s]\n",
      "100%|██████████| 37/37 [00:10<00:00,  3.69it/s]\n"
     ]
    },
    {
     "name": "stdout",
     "output_type": "stream",
     "text": [
      "Epoch 30, Train Loss: 0.3414716924465186, Test Loss: 0.42325243112203237\n"
     ]
    },
    {
     "name": "stderr",
     "output_type": "stream",
     "text": [
      "100%|██████████| 148/148 [00:57<00:00,  2.57it/s]\n",
      "100%|██████████| 37/37 [00:09<00:00,  3.77it/s]\n"
     ]
    },
    {
     "name": "stdout",
     "output_type": "stream",
     "text": [
      "Epoch 31, Train Loss: 0.3422392231185694, Test Loss: 0.42645318242343694\n"
     ]
    },
    {
     "name": "stderr",
     "output_type": "stream",
     "text": [
      "100%|██████████| 148/148 [00:57<00:00,  2.58it/s]\n",
      "100%|██████████| 37/37 [00:10<00:00,  3.52it/s]\n"
     ]
    },
    {
     "name": "stdout",
     "output_type": "stream",
     "text": [
      "Epoch 32, Train Loss: 0.3404798844980227, Test Loss: 0.48094455656167623\n"
     ]
    },
    {
     "name": "stderr",
     "output_type": "stream",
     "text": [
      "100%|██████████| 148/148 [00:56<00:00,  2.64it/s]\n",
      "100%|██████████| 37/37 [00:09<00:00,  3.77it/s]\n"
     ]
    },
    {
     "name": "stdout",
     "output_type": "stream",
     "text": [
      "Epoch 33, Train Loss: 0.3415992986914274, Test Loss: 0.4491565263754613\n"
     ]
    },
    {
     "name": "stderr",
     "output_type": "stream",
     "text": [
      "100%|██████████| 148/148 [00:56<00:00,  2.63it/s]\n",
      "100%|██████████| 37/37 [00:09<00:00,  3.76it/s]\n"
     ]
    },
    {
     "name": "stdout",
     "output_type": "stream",
     "text": [
      "Epoch 34, Train Loss: 0.33973813308654605, Test Loss: 0.447914448944298\n"
     ]
    },
    {
     "name": "stderr",
     "output_type": "stream",
     "text": [
      "100%|██████████| 148/148 [00:56<00:00,  2.63it/s]\n",
      "100%|██████████| 37/37 [00:09<00:00,  3.83it/s]\n"
     ]
    },
    {
     "name": "stdout",
     "output_type": "stream",
     "text": [
      "Epoch 35, Train Loss: 0.34050610621233246, Test Loss: 0.44187830348272583\n"
     ]
    },
    {
     "name": "stderr",
     "output_type": "stream",
     "text": [
      "100%|██████████| 148/148 [00:56<00:00,  2.60it/s]\n",
      "100%|██████████| 37/37 [00:09<00:00,  3.88it/s]\n"
     ]
    },
    {
     "name": "stdout",
     "output_type": "stream",
     "text": [
      "Epoch 36, Train Loss: 0.3397671615050451, Test Loss: 0.4657841248286737\n"
     ]
    },
    {
     "name": "stderr",
     "output_type": "stream",
     "text": [
      "100%|██████████| 148/148 [00:56<00:00,  2.62it/s]\n",
      "100%|██████████| 37/37 [00:09<00:00,  3.74it/s]\n"
     ]
    },
    {
     "name": "stdout",
     "output_type": "stream",
     "text": [
      "Epoch 37, Train Loss: 0.3379311989489439, Test Loss: 0.434096597135067\n"
     ]
    },
    {
     "name": "stderr",
     "output_type": "stream",
     "text": [
      "100%|██████████| 148/148 [00:56<00:00,  2.61it/s]\n",
      "100%|██████████| 37/37 [00:09<00:00,  3.75it/s]\n"
     ]
    },
    {
     "name": "stdout",
     "output_type": "stream",
     "text": [
      "Epoch 38, Train Loss: 0.33765395891827504, Test Loss: 0.4437998658096468\n"
     ]
    },
    {
     "name": "stderr",
     "output_type": "stream",
     "text": [
      "100%|██████████| 148/148 [00:56<00:00,  2.62it/s]\n",
      "100%|██████████| 37/37 [00:09<00:00,  3.74it/s]\n"
     ]
    },
    {
     "name": "stdout",
     "output_type": "stream",
     "text": [
      "Epoch 39, Train Loss: 0.33932173644771446, Test Loss: 0.4456554852627419\n"
     ]
    },
    {
     "name": "stderr",
     "output_type": "stream",
     "text": [
      "100%|██████████| 148/148 [00:55<00:00,  2.65it/s]\n",
      "100%|██████████| 37/37 [00:09<00:00,  3.84it/s]\n"
     ]
    },
    {
     "name": "stdout",
     "output_type": "stream",
     "text": [
      "Epoch 40, Train Loss: 0.3416043858270387, Test Loss: 0.3982546800697172\n"
     ]
    },
    {
     "name": "stderr",
     "output_type": "stream",
     "text": [
      "100%|██████████| 148/148 [00:56<00:00,  2.61it/s]\n",
      "100%|██████████| 37/37 [00:09<00:00,  3.74it/s]\n"
     ]
    },
    {
     "name": "stdout",
     "output_type": "stream",
     "text": [
      "Epoch 41, Train Loss: 0.340456236153841, Test Loss: 0.4347653533961322\n"
     ]
    },
    {
     "name": "stderr",
     "output_type": "stream",
     "text": [
      "100%|██████████| 148/148 [00:56<00:00,  2.62it/s]\n",
      "100%|██████████| 37/37 [00:10<00:00,  3.63it/s]\n"
     ]
    },
    {
     "name": "stdout",
     "output_type": "stream",
     "text": [
      "Epoch 42, Train Loss: 0.3408056312316173, Test Loss: 0.5150506653495737\n"
     ]
    },
    {
     "name": "stderr",
     "output_type": "stream",
     "text": [
      "100%|██████████| 148/148 [00:56<00:00,  2.62it/s]\n",
      "100%|██████████| 37/37 [00:09<00:00,  3.72it/s]\n"
     ]
    },
    {
     "name": "stdout",
     "output_type": "stream",
     "text": [
      "Epoch 43, Train Loss: 0.34260510673394073, Test Loss: 0.40983737038599477\n"
     ]
    },
    {
     "name": "stderr",
     "output_type": "stream",
     "text": [
      "100%|██████████| 148/148 [00:56<00:00,  2.62it/s]\n",
      "100%|██████████| 37/37 [00:09<00:00,  3.72it/s]\n"
     ]
    },
    {
     "name": "stdout",
     "output_type": "stream",
     "text": [
      "Epoch 44, Train Loss: 0.33796539374098583, Test Loss: 0.40825049740237157\n"
     ]
    },
    {
     "name": "stderr",
     "output_type": "stream",
     "text": [
      "100%|██████████| 148/148 [00:55<00:00,  2.66it/s]\n",
      "100%|██████████| 37/37 [00:10<00:00,  3.41it/s]\n"
     ]
    },
    {
     "name": "stdout",
     "output_type": "stream",
     "text": [
      "Epoch 45, Train Loss: 0.34013826878288306, Test Loss: 0.3992662852680361\n"
     ]
    },
    {
     "name": "stderr",
     "output_type": "stream",
     "text": [
      "100%|██████████| 148/148 [00:56<00:00,  2.62it/s]\n",
      "100%|██████████| 37/37 [00:09<00:00,  3.84it/s]\n"
     ]
    },
    {
     "name": "stdout",
     "output_type": "stream",
     "text": [
      "Epoch 46, Train Loss: 0.33868047262768486, Test Loss: 0.4045568048148542\n"
     ]
    },
    {
     "name": "stderr",
     "output_type": "stream",
     "text": [
      "100%|██████████| 148/148 [00:56<00:00,  2.62it/s]\n",
      "100%|██████████| 37/37 [00:09<00:00,  3.78it/s]\n"
     ]
    },
    {
     "name": "stdout",
     "output_type": "stream",
     "text": [
      "Epoch 47, Train Loss: 0.3382708119681558, Test Loss: 0.41901492790595907\n"
     ]
    },
    {
     "name": "stderr",
     "output_type": "stream",
     "text": [
      "100%|██████████| 148/148 [00:56<00:00,  2.62it/s]\n",
      "100%|██████████| 37/37 [00:10<00:00,  3.56it/s]\n"
     ]
    },
    {
     "name": "stdout",
     "output_type": "stream",
     "text": [
      "Epoch 48, Train Loss: 0.3380519758809257, Test Loss: 0.46694473036237666\n"
     ]
    },
    {
     "name": "stderr",
     "output_type": "stream",
     "text": [
      "100%|██████████| 148/148 [00:57<00:00,  2.60it/s]\n",
      "100%|██████████| 37/37 [00:09<00:00,  3.77it/s]\n"
     ]
    },
    {
     "name": "stdout",
     "output_type": "stream",
     "text": [
      "Epoch 49, Train Loss: 0.33906070867905747, Test Loss: 0.40329472760896423\n"
     ]
    },
    {
     "name": "stderr",
     "output_type": "stream",
     "text": [
      "100%|██████████| 148/148 [00:56<00:00,  2.62it/s]\n",
      "100%|██████████| 37/37 [00:11<00:00,  3.35it/s]"
     ]
    },
    {
     "name": "stdout",
     "output_type": "stream",
     "text": [
      "Epoch 50, Train Loss: 0.3357093056814896, Test Loss: 0.4024223794002791\n",
      "Total Training Time: 55.49 minutes\n"
     ]
    },
    {
     "name": "stderr",
     "output_type": "stream",
     "text": [
      "\n"
     ]
    }
   ],
   "source": [
    "num_iterates = 50\n",
    "UNet_trained_4 = train(model_4, train_loader, test_loader, criterion, optimizer, num_iterates, device)"
   ]
  },
  {
   "cell_type": "code",
   "execution_count": 21,
   "metadata": {},
   "outputs": [
    {
     "data": {
      "image/png": "[encoded data removed]",
      "text/plain": [
       "<Figure size 1000x500 with 1 Axes>"
      ]
     },
     "metadata": {},
     "output_type": "display_data"
    }
   ],
   "source": [
    "plt.figure(figsize=(10, 5))\n",
    "plt.plot(range(num_iterates), UNet_trained_3[0], label='Train Loss', color='red')\n",
    "plt.plot(range(num_iterates), UNet_trained_3[1], label='Test Loss', color='blue')\n",
    "plt.xlabel('Epochs')\n",
    "plt.ylabel('Loss')\n",
    "plt.title('Train and Test Loss Over Epochs of 50 and lr = 1e-2')\n",
    "plt.legend()\n",
    "plt.grid(True)\n",
    "plt.show()"
   ]
  },
  {
   "cell_type": "code",
   "execution_count": null,
   "metadata": {},
   "outputs": [],
   "source": []
  }
 ],
 "metadata": {
  "accelerator": "GPU",
  "colab": {
   "gpuType": "T4",
   "machine_shape": "hm",
   "provenance": []
  },
  "kernelspec": {
   "display_name": "Python 3 (ipykernel)",
   "language": "python",
   "name": "python3"
  },
  "language_info": {
   "codemirror_mode": {
    "name": "ipython",
    "version": 3
   },
   "file_extension": ".py",
   "mimetype": "text/x-python",
   "name": "python",
   "nbconvert_exporter": "python",
   "pygments_lexer": "ipython3",
   "version": "3.8.18"
  }
 },
 "nbformat": 4,
 "nbformat_minor": 4
}
